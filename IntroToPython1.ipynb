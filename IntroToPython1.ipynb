{
  "nbformat": 4,
  "nbformat_minor": 0,
  "metadata": {
    "colab": {
      "provenance": [],
      "authorship_tag": "ABX9TyMo4KOlSGvBNDJnjZ9cKmfK",
      "include_colab_link": true
    },
    "kernelspec": {
      "name": "python3",
      "display_name": "Python 3"
    },
    "language_info": {
      "name": "python"
    }
  },
  "cells": [
    {
      "cell_type": "markdown",
      "metadata": {
        "id": "view-in-github",
        "colab_type": "text"
      },
      "source": [
        "<a href=\"https://colab.research.google.com/github/amtulali/TTP-SUMMER23/blob/main/IntroToPython1.ipynb\" target=\"_parent\"><img src=\"https://colab.research.google.com/assets/colab-badge.svg\" alt=\"Open In Colab\"/></a>"
      ]
    },
    {
      "cell_type": "code",
      "execution_count": null,
      "metadata": {
        "colab": {
          "base_uri": "https://localhost:8080/"
        },
        "id": "s29T0EpWe3xn",
        "outputId": "444b20c2-5679-46db-df39-1fcb24d46b47"
      },
      "outputs": [
        {
          "output_type": "stream",
          "name": "stdout",
          "text": [
            "Hi there\n"
          ]
        }
      ],
      "source": [
        "print(\"Hi there\")\n",
        "#in this line I am using print() method to print 'Hi There'."
      ]
    },
    {
      "cell_type": "code",
      "source": [
        "print(\"there are two types of slashes: \\\\ and /\")\n",
        "#in this line, print function ignores the slash written twice."
      ],
      "metadata": {
        "colab": {
          "base_uri": "https://localhost:8080/"
        },
        "id": "byG2_vg8fExc",
        "outputId": "f8ac24a5-de6c-435f-b918-a9400121211d"
      },
      "execution_count": null,
      "outputs": [
        {
          "output_type": "stream",
          "name": "stdout",
          "text": [
            "there are two types of slashes: \\ and /\n"
          ]
        }
      ]
    },
    {
      "cell_type": "code",
      "source": [
        "print(\"\"\" This is a tabbed line\n",
        "This is a regular line\n",
        "\"\"\")\n",
        "#in this line we have a tabbed line and a regular line without tab."
      ],
      "metadata": {
        "colab": {
          "base_uri": "https://localhost:8080/"
        },
        "id": "7HwGX2A4f51n",
        "outputId": "137b0b63-8091-4062-e80f-6f49b1381531"
      },
      "execution_count": null,
      "outputs": [
        {
          "output_type": "stream",
          "name": "stdout",
          "text": [
            " This is a tabbed line\n",
            "This is a regular line\n",
            "\n"
          ]
        }
      ]
    },
    {
      "cell_type": "code",
      "source": [
        "print(\"\\n\\tThis is a tabbed line\\nThis is a regular line\")\n",
        "#In this line \\n is used for new line and \\t is used for tab."
      ],
      "metadata": {
        "colab": {
          "base_uri": "https://localhost:8080/"
        },
        "id": "rfCnFz12hNDO",
        "outputId": "2200f14c-4cbb-4ecc-b67c-bda193c0aad3"
      },
      "execution_count": null,
      "outputs": [
        {
          "output_type": "stream",
          "name": "stdout",
          "text": [
            "\n",
            "\tThis is a tabbed line\n",
            "This is a regular line\n"
          ]
        }
      ]
    },
    {
      "cell_type": "markdown",
      "source": [
        "**Variables**"
      ],
      "metadata": {
        "id": "LvJsb5vlh0dZ"
      }
    },
    {
      "cell_type": "code",
      "source": [
        "dogs = 3\n",
        "cats = \"Fluffy Fur\"\n",
        "#in this code, dogs is assigned the value 3, wheras cats is assigned string 'Fluffy Fur'."
      ],
      "metadata": {
        "id": "ZXdS1QtZhNL-"
      },
      "execution_count": null,
      "outputs": []
    },
    {
      "cell_type": "code",
      "source": [
        "dogs\n",
        "#writing dogs returns the value 3"
      ],
      "metadata": {
        "colab": {
          "base_uri": "https://localhost:8080/"
        },
        "id": "1KMc9EC-iMwe",
        "outputId": "494b55d9-28c5-49bc-d990-225c5f5dfa33"
      },
      "execution_count": null,
      "outputs": [
        {
          "output_type": "execute_result",
          "data": {
            "text/plain": [
              "3"
            ]
          },
          "metadata": {},
          "execution_count": 126
        }
      ]
    },
    {
      "cell_type": "code",
      "source": [
        "cats\n",
        "#writing cats returns the string 'Fluffy Fur'"
      ],
      "metadata": {
        "colab": {
          "base_uri": "https://localhost:8080/",
          "height": 36
        },
        "id": "i_xLrZWXiOZE",
        "outputId": "c739838b-a38a-4f83-b2f6-9333a446a7f5"
      },
      "execution_count": null,
      "outputs": [
        {
          "output_type": "execute_result",
          "data": {
            "text/plain": [
              "'Fluffy Fur'"
            ],
            "application/vnd.google.colaboratory.intrinsic+json": {
              "type": "string"
            }
          },
          "metadata": {},
          "execution_count": 127
        }
      ]
    },
    {
      "cell_type": "code",
      "source": [
        "type(dogs)\n",
        "#type(dogs) should give the type of the variable assigned to dogs which is an int."
      ],
      "metadata": {
        "colab": {
          "base_uri": "https://localhost:8080/"
        },
        "id": "z2V4agT4iSWw",
        "outputId": "91447917-c924-4803-c155-d86553f33d6c"
      },
      "execution_count": null,
      "outputs": [
        {
          "output_type": "execute_result",
          "data": {
            "text/plain": [
              "int"
            ]
          },
          "metadata": {},
          "execution_count": 128
        }
      ]
    },
    {
      "cell_type": "code",
      "source": [
        "type(cats)\n",
        "#type(cats) should give the type of the variable assigned to cats which is a string."
      ],
      "metadata": {
        "colab": {
          "base_uri": "https://localhost:8080/"
        },
        "id": "ZqBjVMvviVEP",
        "outputId": "e82579dd-d2b2-4433-c141-0cc18179bdcc"
      },
      "execution_count": null,
      "outputs": [
        {
          "output_type": "execute_result",
          "data": {
            "text/plain": [
              "str"
            ]
          },
          "metadata": {},
          "execution_count": 129
        }
      ]
    },
    {
      "cell_type": "code",
      "source": [
        "hi=\"hello\"\n",
        "name=\"John\"\n",
        "print(hi + name)\n",
        "# hi is assigned 'hello' wheras name is assigned 'John' and print(hi + name)\n",
        "#returns hello john."
      ],
      "metadata": {
        "colab": {
          "base_uri": "https://localhost:8080/"
        },
        "id": "INkFNMVDibGp",
        "outputId": "4a8e4d4d-2552-4f79-ac60-c25016c1c293"
      },
      "execution_count": null,
      "outputs": [
        {
          "output_type": "stream",
          "name": "stdout",
          "text": [
            "helloJohn\n"
          ]
        }
      ]
    },
    {
      "cell_type": "code",
      "source": [
        "more_dogs=5\n",
        "print(dogs + more_dogs)\n",
        "#dogs was assigned variable 3 and more_dogs is assigned 5 so\n",
        "#print(dogs + more_dogs) returns (5+3) 8"
      ],
      "metadata": {
        "colab": {
          "base_uri": "https://localhost:8080/"
        },
        "id": "sWZGzT2wimpC",
        "outputId": "068d7982-9a0b-416e-cf2c-b9df0eb03c92"
      },
      "execution_count": null,
      "outputs": [
        {
          "output_type": "stream",
          "name": "stdout",
          "text": [
            "8\n"
          ]
        }
      ]
    },
    {
      "cell_type": "code",
      "source": [
        "price = 19.99\n",
        "amount = 3\n",
        "print(price*amount)\n",
        "#price is assigned 19.99, amount is 3. print (price*amount) returns 59.97"
      ],
      "metadata": {
        "colab": {
          "base_uri": "https://localhost:8080/"
        },
        "id": "1z-rvMgfi8fq",
        "outputId": "628293e5-2c04-406c-db73-24715f386906"
      },
      "execution_count": null,
      "outputs": [
        {
          "output_type": "stream",
          "name": "stdout",
          "text": [
            "59.97\n"
          ]
        }
      ]
    },
    {
      "cell_type": "code",
      "source": [
        "#variable reassignment\n",
        "dogs = \"new value\"\n",
        "print(dogs)\n",
        "#Now dogs is reassigned with string \"new value\"\n",
        "#hence print(dogs) returns new value"
      ],
      "metadata": {
        "colab": {
          "base_uri": "https://localhost:8080/"
        },
        "id": "Z-y44FKfjPWQ",
        "outputId": "881658c7-2d33-41b5-ec55-5594c6c89747"
      },
      "execution_count": null,
      "outputs": [
        {
          "output_type": "stream",
          "name": "stdout",
          "text": [
            "new value\n"
          ]
        }
      ]
    },
    {
      "cell_type": "code",
      "source": [
        "cats, dogs, rabbit = 2, 5, \"cute\"\n",
        "print(dogs)\n",
        "# here cats is assigned 2, dogs is assigned 5 and rabbit is assigned cute\n",
        "#in one single line seperated with commas. print(dogs) returns 5\n"
      ],
      "metadata": {
        "colab": {
          "base_uri": "https://localhost:8080/"
        },
        "id": "XoVfJ5isjooP",
        "outputId": "f60bedee-fc8a-4dec-d4db-e0c2334661d0"
      },
      "execution_count": null,
      "outputs": [
        {
          "output_type": "stream",
          "name": "stdout",
          "text": [
            "5\n"
          ]
        }
      ]
    },
    {
      "cell_type": "markdown",
      "source": [
        "MORE **STRINGS**"
      ],
      "metadata": {
        "id": "QsULJqAakJuR"
      }
    },
    {
      "cell_type": "markdown",
      "source": [
        "Indexing"
      ],
      "metadata": {
        "id": "CvARxUjLkQbr"
      }
    },
    {
      "cell_type": "code",
      "source": [
        "greetings = \"hello world\"\n",
        "#greeting is assigned string \"hello world\""
      ],
      "metadata": {
        "id": "0T4BIoVikMsA"
      },
      "execution_count": null,
      "outputs": []
    },
    {
      "cell_type": "code",
      "source": [
        "greetings\n",
        "#writing greeting returns \"hello world\""
      ],
      "metadata": {
        "colab": {
          "base_uri": "https://localhost:8080/",
          "height": 36
        },
        "id": "1oHOC-FRkr9H",
        "outputId": "46aeff24-dce6-4133-f918-6fe1a4060b1d"
      },
      "execution_count": null,
      "outputs": [
        {
          "output_type": "execute_result",
          "data": {
            "text/plain": [
              "'hello world'"
            ],
            "application/vnd.google.colaboratory.intrinsic+json": {
              "type": "string"
            }
          },
          "metadata": {},
          "execution_count": 136
        }
      ]
    },
    {
      "cell_type": "code",
      "source": [
        "print(greetings[4])\n",
        "#print(greeting[4]) returns 'o' as it is at index 4 in hello"
      ],
      "metadata": {
        "colab": {
          "base_uri": "https://localhost:8080/"
        },
        "id": "V9gd-b9qkxSh",
        "outputId": "06037a87-8c09-4039-f824-3109bd84edfd"
      },
      "execution_count": null,
      "outputs": [
        {
          "output_type": "stream",
          "name": "stdout",
          "text": [
            "o\n"
          ]
        }
      ]
    },
    {
      "cell_type": "code",
      "source": [
        "testing = \"The 3rd, the 5th, and/or the 19th\"\n",
        "print(testing[10])\n",
        "#Testing is assigned a string. print(testing[10]) returns h as it is at index 10."
      ],
      "metadata": {
        "colab": {
          "base_uri": "https://localhost:8080/"
        },
        "id": "YYq0dW2nk3e0",
        "outputId": "b110844f-4837-428b-d029-999906f04317"
      },
      "execution_count": null,
      "outputs": [
        {
          "output_type": "stream",
          "name": "stdout",
          "text": [
            "h\n"
          ]
        }
      ]
    },
    {
      "cell_type": "code",
      "source": [
        "print(testing[3])\n",
        "#print(testing[3]) does not return anything as there is blank space at the index."
      ],
      "metadata": {
        "colab": {
          "base_uri": "https://localhost:8080/"
        },
        "id": "jja9fBXpoFcs",
        "outputId": "30084a99-d927-4021-f63d-2245d57258d2"
      },
      "execution_count": null,
      "outputs": [
        {
          "output_type": "stream",
          "name": "stdout",
          "text": [
            " \n"
          ]
        }
      ]
    },
    {
      "cell_type": "code",
      "source": [
        "print(testing[5])\n",
        "#print(testing[5]) returns 'r' as it is at index 5"
      ],
      "metadata": {
        "colab": {
          "base_uri": "https://localhost:8080/"
        },
        "id": "Xks2PKdgoJO0",
        "outputId": "7b576a49-6537-42de-80a8-ebfee373d448"
      },
      "execution_count": null,
      "outputs": [
        {
          "output_type": "stream",
          "name": "stdout",
          "text": [
            "r\n"
          ]
        }
      ]
    },
    {
      "cell_type": "code",
      "source": [
        "len(greetings)\n",
        "#in this line I am using len function to give length of string assigned to greetings"
      ],
      "metadata": {
        "colab": {
          "base_uri": "https://localhost:8080/"
        },
        "id": "4qlX2sPNoSbe",
        "outputId": "d9eea90d-8cf4-40eb-c78f-c2f1f968aeec"
      },
      "execution_count": null,
      "outputs": [
        {
          "output_type": "execute_result",
          "data": {
            "text/plain": [
              "11"
            ]
          },
          "metadata": {},
          "execution_count": 141
        }
      ]
    },
    {
      "cell_type": "code",
      "source": [
        "greetings[-1]\n",
        "#greetings[-1] returns the last letter of the string assigned to greetings."
      ],
      "metadata": {
        "colab": {
          "base_uri": "https://localhost:8080/",
          "height": 36
        },
        "id": "WFcmLwccoklw",
        "outputId": "79373282-d84a-4534-e198-760390d23e9f"
      },
      "execution_count": null,
      "outputs": [
        {
          "output_type": "execute_result",
          "data": {
            "text/plain": [
              "'d'"
            ],
            "application/vnd.google.colaboratory.intrinsic+json": {
              "type": "string"
            }
          },
          "metadata": {},
          "execution_count": 142
        }
      ]
    },
    {
      "cell_type": "markdown",
      "source": [
        "**String Formatting**"
      ],
      "metadata": {
        "id": "pR3T7qZhoo-R"
      }
    },
    {
      "cell_type": "code",
      "source": [
        "price = 59.99\n",
        "#price is assigned 59.99"
      ],
      "metadata": {
        "id": "Eszd0jdCqY3h"
      },
      "execution_count": null,
      "outputs": []
    },
    {
      "cell_type": "code",
      "source": [
        "message = \"the products cost {} dollar\".format(price)\n",
        "#.format(price) replaces {} with variable assigned to price."
      ],
      "metadata": {
        "id": "ALbuxhUqqfJ2"
      },
      "execution_count": null,
      "outputs": []
    },
    {
      "cell_type": "code",
      "source": [
        "message"
      ],
      "metadata": {
        "colab": {
          "base_uri": "https://localhost:8080/",
          "height": 36
        },
        "id": "WnuCcsX_q7Dg",
        "outputId": "378d4e04-66a2-4a86-ea4a-b9ac74f0b21d"
      },
      "execution_count": null,
      "outputs": [
        {
          "output_type": "execute_result",
          "data": {
            "text/plain": [
              "'the products cost 59.99 dollar'"
            ],
            "application/vnd.google.colaboratory.intrinsic+json": {
              "type": "string"
            }
          },
          "metadata": {},
          "execution_count": 145
        }
      ]
    },
    {
      "cell_type": "code",
      "source": [
        "amount=3\n",
        "total = amount * price\n",
        "#amount is assigned variable 3 and total will return amount * price"
      ],
      "metadata": {
        "id": "6CaYThQZrD1X"
      },
      "execution_count": null,
      "outputs": []
    },
    {
      "cell_type": "code",
      "source": [
        "message2 = \"for {} products at the price of {}, the total will be: {}\"\n",
        "#{} are used to fill up the values accordingly."
      ],
      "metadata": {
        "id": "QgNjMTNHsJfZ"
      },
      "execution_count": null,
      "outputs": []
    },
    {
      "cell_type": "code",
      "source": [
        "print(message2.format(price, total, amount))\n",
        "#this will format message 2 by replacing first {}with price, second{}with total\n",
        "#and third {} with amount."
      ],
      "metadata": {
        "colab": {
          "base_uri": "https://localhost:8080/"
        },
        "id": "WIYg1kzSsO8E",
        "outputId": "69253899-4696-4ba0-f216-f37a8b0c77d4"
      },
      "execution_count": null,
      "outputs": [
        {
          "output_type": "stream",
          "name": "stdout",
          "text": [
            "for 59.99 products at the price of 179.97, the total will be: 3\n"
          ]
        }
      ]
    },
    {
      "cell_type": "code",
      "source": [
        "message3 = \"for {2} products at the price of {0}, the total will be: {1}\"\n",
        "#{2} points to the third element seperated by comma in function format.\n",
        "#{0} points to the first element seperated by comma in function format.\n",
        "#{1} points to the second element seperated by comma in function format."
      ],
      "metadata": {
        "id": "Ght7twyJrQd_"
      },
      "execution_count": null,
      "outputs": []
    },
    {
      "cell_type": "code",
      "source": [
        "print(message3.format(price, total, amount))\n",
        "#this would print amount in place of {2}, price in place of {0}, total in place of {1}"
      ],
      "metadata": {
        "colab": {
          "base_uri": "https://localhost:8080/"
        },
        "id": "xBz4SKJLr4HO",
        "outputId": "847f4c37-7d08-4ac8-9866-b1a1b59663ea"
      },
      "execution_count": null,
      "outputs": [
        {
          "output_type": "stream",
          "name": "stdout",
          "text": [
            "for 3 products at the price of 59.99, the total will be: 179.97\n"
          ]
        }
      ]
    },
    {
      "cell_type": "markdown",
      "source": [
        "**The f-string Method**"
      ],
      "metadata": {
        "id": "5LU3mW18u60Y"
      }
    },
    {
      "cell_type": "code",
      "source": [
        "price = 19.99\n",
        "items = 3\n",
        "#assigning 19.99 to price and 3 to items"
      ],
      "metadata": {
        "id": "FNt_SJWIu_H7"
      },
      "execution_count": null,
      "outputs": []
    },
    {
      "cell_type": "code",
      "source": [
        "msg = f'this individual product is {price}'\n",
        "#using f function to format, returning 19.99 in place of {price}"
      ],
      "metadata": {
        "id": "y4qqoItzvJsb"
      },
      "execution_count": null,
      "outputs": []
    },
    {
      "cell_type": "code",
      "source": [
        "msg"
      ],
      "metadata": {
        "colab": {
          "base_uri": "https://localhost:8080/",
          "height": 36
        },
        "id": "b_wD1suvvaRG",
        "outputId": "4eb63ab1-bc73-4d74-8bb8-07db76af393d"
      },
      "execution_count": null,
      "outputs": [
        {
          "output_type": "execute_result",
          "data": {
            "text/plain": [
              "'this individual product is 19.99'"
            ],
            "application/vnd.google.colaboratory.intrinsic+json": {
              "type": "string"
            }
          },
          "metadata": {},
          "execution_count": 153
        }
      ]
    },
    {
      "cell_type": "code",
      "source": [
        "msg2 = f'The total for your purchase is {price * items}'\n",
        "#using f function to format, and return {price(19.99)*items(3) which would be 59.97}"
      ],
      "metadata": {
        "id": "YXoxsOtDyzDJ"
      },
      "execution_count": null,
      "outputs": []
    },
    {
      "cell_type": "code",
      "source": [
        "msg2"
      ],
      "metadata": {
        "colab": {
          "base_uri": "https://localhost:8080/",
          "height": 36
        },
        "id": "sN3yrdn0zIlD",
        "outputId": "81568e0a-7b35-4443-c080-250087911500"
      },
      "execution_count": null,
      "outputs": [
        {
          "output_type": "execute_result",
          "data": {
            "text/plain": [
              "'The total for your purchase is 59.97'"
            ],
            "application/vnd.google.colaboratory.intrinsic+json": {
              "type": "string"
            }
          },
          "metadata": {},
          "execution_count": 155
        }
      ]
    },
    {
      "cell_type": "markdown",
      "source": [
        "**String Functions**"
      ],
      "metadata": {
        "id": "-oN9JoOCJHV_"
      }
    },
    {
      "cell_type": "code",
      "source": [
        "dir(msg)\n",
        "#this function gives us access to the directory of list of commands."
      ],
      "metadata": {
        "colab": {
          "base_uri": "https://localhost:8080/"
        },
        "id": "pjjOypTOJQry",
        "outputId": "7005bc3f-b1d1-41cc-c8cf-ac1feece61f7"
      },
      "execution_count": null,
      "outputs": [
        {
          "output_type": "execute_result",
          "data": {
            "text/plain": [
              "['__add__',\n",
              " '__class__',\n",
              " '__contains__',\n",
              " '__delattr__',\n",
              " '__dir__',\n",
              " '__doc__',\n",
              " '__eq__',\n",
              " '__format__',\n",
              " '__ge__',\n",
              " '__getattribute__',\n",
              " '__getitem__',\n",
              " '__getnewargs__',\n",
              " '__gt__',\n",
              " '__hash__',\n",
              " '__init__',\n",
              " '__init_subclass__',\n",
              " '__iter__',\n",
              " '__le__',\n",
              " '__len__',\n",
              " '__lt__',\n",
              " '__mod__',\n",
              " '__mul__',\n",
              " '__ne__',\n",
              " '__new__',\n",
              " '__reduce__',\n",
              " '__reduce_ex__',\n",
              " '__repr__',\n",
              " '__rmod__',\n",
              " '__rmul__',\n",
              " '__setattr__',\n",
              " '__sizeof__',\n",
              " '__str__',\n",
              " '__subclasshook__',\n",
              " 'capitalize',\n",
              " 'casefold',\n",
              " 'center',\n",
              " 'count',\n",
              " 'encode',\n",
              " 'endswith',\n",
              " 'expandtabs',\n",
              " 'find',\n",
              " 'format',\n",
              " 'format_map',\n",
              " 'index',\n",
              " 'isalnum',\n",
              " 'isalpha',\n",
              " 'isascii',\n",
              " 'isdecimal',\n",
              " 'isdigit',\n",
              " 'isidentifier',\n",
              " 'islower',\n",
              " 'isnumeric',\n",
              " 'isprintable',\n",
              " 'isspace',\n",
              " 'istitle',\n",
              " 'isupper',\n",
              " 'join',\n",
              " 'ljust',\n",
              " 'lower',\n",
              " 'lstrip',\n",
              " 'maketrans',\n",
              " 'partition',\n",
              " 'removeprefix',\n",
              " 'removesuffix',\n",
              " 'replace',\n",
              " 'rfind',\n",
              " 'rindex',\n",
              " 'rjust',\n",
              " 'rpartition',\n",
              " 'rsplit',\n",
              " 'rstrip',\n",
              " 'split',\n",
              " 'splitlines',\n",
              " 'startswith',\n",
              " 'strip',\n",
              " 'swapcase',\n",
              " 'title',\n",
              " 'translate',\n",
              " 'upper',\n",
              " 'zfill']"
            ]
          },
          "metadata": {},
          "execution_count": 156
        }
      ]
    },
    {
      "cell_type": "code",
      "source": [
        "msg"
      ],
      "metadata": {
        "colab": {
          "base_uri": "https://localhost:8080/",
          "height": 36
        },
        "id": "epj4fpQLJ2Dd",
        "outputId": "ecfcbb95-c5ba-45c2-e73d-d7b5cbfdbc84"
      },
      "execution_count": null,
      "outputs": [
        {
          "output_type": "execute_result",
          "data": {
            "text/plain": [
              "'this individual product is 19.99'"
            ],
            "application/vnd.google.colaboratory.intrinsic+json": {
              "type": "string"
            }
          },
          "metadata": {},
          "execution_count": 157
        }
      ]
    },
    {
      "cell_type": "code",
      "source": [
        "msg =\"hello my name is Bob\"\n",
        "#a string assigned to msg."
      ],
      "metadata": {
        "id": "YUGQs9GUJ6-1"
      },
      "execution_count": null,
      "outputs": []
    },
    {
      "cell_type": "code",
      "source": [
        "words = msg.split(' ')\n",
        "#split function uses to split the string assigned to msg into seperate words."
      ],
      "metadata": {
        "id": "o5y6owdRKBbg"
      },
      "execution_count": null,
      "outputs": []
    },
    {
      "cell_type": "code",
      "source": [
        "print(words)"
      ],
      "metadata": {
        "colab": {
          "base_uri": "https://localhost:8080/"
        },
        "id": "cArRGbQfKNbZ",
        "outputId": "cc7a45e3-d595-4e5e-d5f9-d2b809b37368"
      },
      "execution_count": null,
      "outputs": [
        {
          "output_type": "stream",
          "name": "stdout",
          "text": [
            "['hello', 'my', 'name', 'is', 'Bob']\n"
          ]
        }
      ]
    },
    {
      "cell_type": "code",
      "source": [
        "elements = msg.split('e')\n",
        "#split function used to split the string assigned to msg at every occurence of 'e'"
      ],
      "metadata": {
        "id": "MGGRWcMyKhBc"
      },
      "execution_count": null,
      "outputs": []
    },
    {
      "cell_type": "code",
      "source": [
        "print(elements)"
      ],
      "metadata": {
        "colab": {
          "base_uri": "https://localhost:8080/"
        },
        "id": "lZJ_LT-UKm0Z",
        "outputId": "c23daba9-c0a6-4529-f4f1-5ee1eddc827d"
      },
      "execution_count": null,
      "outputs": [
        {
          "output_type": "stream",
          "name": "stdout",
          "text": [
            "['h', 'llo my nam', ' is Bob']\n"
          ]
        }
      ]
    },
    {
      "cell_type": "code",
      "source": [
        "print(msg.upper())\n",
        "#upper() function used to change the letters in the string to upper case."
      ],
      "metadata": {
        "colab": {
          "base_uri": "https://localhost:8080/"
        },
        "id": "4J9WmEE0KuvT",
        "outputId": "28b6d023-fd34-49bd-edcf-59c1c1202e01"
      },
      "execution_count": null,
      "outputs": [
        {
          "output_type": "stream",
          "name": "stdout",
          "text": [
            "HELLO MY NAME IS BOB\n"
          ]
        }
      ]
    },
    {
      "cell_type": "code",
      "source": [
        "print(msg.lower())\n",
        "#lower() function used to change the letter in the string to lower case."
      ],
      "metadata": {
        "colab": {
          "base_uri": "https://localhost:8080/"
        },
        "id": "tT2YuX96K8Vk",
        "outputId": "b4d2e4c5-e0e5-4b90-9ba1-5da653bc6c33"
      },
      "execution_count": null,
      "outputs": [
        {
          "output_type": "stream",
          "name": "stdout",
          "text": [
            "hello my name is bob\n"
          ]
        }
      ]
    },
    {
      "cell_type": "markdown",
      "source": [
        "**The Input() Method**"
      ],
      "metadata": {
        "id": "Jsj4_PTdMvh0"
      }
    },
    {
      "cell_type": "code",
      "source": [
        "data = input('What is your name: ')\n",
        "#input function used to take user's input.\n",
        "print(f'Hello {data}, hope your day is great!')\n",
        "#The input taken is used in place of {} while printing."
      ],
      "metadata": {
        "colab": {
          "base_uri": "https://localhost:8080/"
        },
        "id": "zDPy28e5M2W1",
        "outputId": "0d180ef3-b850-47ea-da58-31e3d3368f0e"
      },
      "execution_count": null,
      "outputs": [
        {
          "output_type": "stream",
          "name": "stdout",
          "text": [
            "What is your name: amtul\n",
            "Hello amtul, hope your day is great!\n"
          ]
        }
      ]
    },
    {
      "cell_type": "code",
      "source": [
        "num = int(input('enter a number: '))\n",
        "#input function is used to take an integer input.\n",
        "print(num)\n",
        "#The integer is then printed"
      ],
      "metadata": {
        "colab": {
          "base_uri": "https://localhost:8080/"
        },
        "id": "ELyMYoovN7Y4",
        "outputId": "75a6def6-9537-4ed3-d77f-dad4b3737c44"
      },
      "execution_count": null,
      "outputs": [
        {
          "output_type": "stream",
          "name": "stdout",
          "text": [
            "enter a number: 3\n",
            "3\n"
          ]
        }
      ]
    },
    {
      "cell_type": "code",
      "source": [
        "type(num)\n",
        "#the type of num is integer"
      ],
      "metadata": {
        "colab": {
          "base_uri": "https://localhost:8080/"
        },
        "id": "RBP7dnv0OHek",
        "outputId": "e66f5801-f337-483e-c9a3-920603f7374d"
      },
      "execution_count": null,
      "outputs": [
        {
          "output_type": "execute_result",
          "data": {
            "text/plain": [
              "int"
            ]
          },
          "metadata": {},
          "execution_count": 167
        }
      ]
    },
    {
      "cell_type": "code",
      "source": [
        "#Assignment\n",
        "name = input('What is your name: ')\n",
        "age = int(input('Enter your age:'))\n",
        "address = input('What is you address: ')\n",
        "sport = input('Whats your favorite sport: ')"
      ],
      "metadata": {
        "colab": {
          "base_uri": "https://localhost:8080/"
        },
        "id": "cwoZrp8aOejF",
        "outputId": "fd542bdb-2dbc-4fd8-f3f9-393631c6ec2c"
      },
      "execution_count": null,
      "outputs": [
        {
          "name": "stdout",
          "output_type": "stream",
          "text": [
            "What is your name: amtul\n",
            "Enter your age:20\n"
          ]
        }
      ]
    },
    {
      "cell_type": "code",
      "source": [
        "print(f'Hello {name}, hope your day is great!')\n",
        "print(f'Your age is {age}')\n",
        "print(f'Your address is {address}')\n",
        "print(f'Oh wow, your favourite sport is {sport}')\n"
      ],
      "metadata": {
        "id": "VBnPQRLePZvi"
      },
      "execution_count": null,
      "outputs": []
    },
    {
      "cell_type": "markdown",
      "source": [
        "**NUMBERS**"
      ],
      "metadata": {
        "id": "CcFPaUMRXctU"
      }
    },
    {
      "cell_type": "code",
      "source": [
        "cats = 7\n",
        "#assigning 7 to cats\n",
        "money = -35.5\n",
        "#assigning -35.5 to money\n",
        "x = 2+5j\n",
        "#x is defined as an equation (2+5j)\n",
        "message = \"Hello Alice!\"\n",
        "#message is assigned a string"
      ],
      "metadata": {
        "id": "GFo66o0sX2BI"
      },
      "execution_count": null,
      "outputs": []
    },
    {
      "cell_type": "code",
      "source": [
        "print(type(cats))\n",
        "#since 7 is assigned to cats so it would be an int\n",
        "print(type(money))\n",
        "#since -35.5 is assigned to money so it would be a float\n",
        "print(type(x))\n",
        "#since x is an equation, it is a complex number\n",
        "print(type(message))\n",
        "#message is a string"
      ],
      "metadata": {
        "id": "_WFgH4NuX2PE",
        "colab": {
          "base_uri": "https://localhost:8080/"
        },
        "outputId": "70175390-bdae-4bf2-d326-d8afc321d073"
      },
      "execution_count": null,
      "outputs": [
        {
          "output_type": "stream",
          "name": "stdout",
          "text": [
            "<class 'int'>\n",
            "<class 'float'>\n",
            "<class 'complex'>\n",
            "<class 'str'>\n"
          ]
        }
      ]
    },
    {
      "cell_type": "code",
      "source": [
        "shoes = 5\n",
        "#integer 5 is assigned to shoes.\n",
        "print(f\"I own {shoes} pairs of shoes\")\n",
        "#using print f function, we replace {shoes} by 5.\n",
        "print(type(shoes))\n",
        "#print type of shoes which should be an int."
      ],
      "metadata": {
        "colab": {
          "base_uri": "https://localhost:8080/"
        },
        "id": "mdUd_x9q3WIZ",
        "outputId": "af6d1175-2175-41b2-e873-a2b4cd8a40c5"
      },
      "execution_count": null,
      "outputs": [
        {
          "output_type": "stream",
          "name": "stdout",
          "text": [
            "I own 5 pairs of shoes\n",
            "<class 'int'>\n"
          ]
        }
      ]
    },
    {
      "cell_type": "code",
      "source": [
        "rate = 3/2\n",
        "#3/2 is assigned to rate\n",
        "print(f\"I can complete {rate} projects per month\")\n",
        "#using print f function, we replace {rate} by 3/2.\n",
        "print(type(rate))\n",
        "#print type of rate which should be a float."
      ],
      "metadata": {
        "colab": {
          "base_uri": "https://localhost:8080/"
        },
        "id": "ZRQKO7KS3d7V",
        "outputId": "3a62e51d-2ef3-444f-d448-c2d1dbe8a1e7"
      },
      "execution_count": null,
      "outputs": [
        {
          "output_type": "stream",
          "name": "stdout",
          "text": [
            "I can complete 1.5 projects per month\n",
            "<class 'float'>\n"
          ]
        }
      ]
    },
    {
      "cell_type": "code",
      "source": [
        "a = 6\n",
        "#int 6 is assigned to a\n",
        "b = 2.5\n",
        "#float 2.5 is assigned to b\n",
        "print(f\"{a} * {b} = {a * b}\")\n",
        "#a and b are multiplied\n",
        "print(type(a * b))\n",
        "#hence the answer would be a float"
      ],
      "metadata": {
        "colab": {
          "base_uri": "https://localhost:8080/"
        },
        "id": "IDN4FoDK3iPD",
        "outputId": "5f108358-846c-43df-97a6-00c2a1a47164"
      },
      "execution_count": null,
      "outputs": [
        {
          "output_type": "stream",
          "name": "stdout",
          "text": [
            "6 * 2.5 = 15.0\n",
            "<class 'float'>\n"
          ]
        }
      ]
    },
    {
      "cell_type": "markdown",
      "source": [
        "CONVERSIONS\n"
      ],
      "metadata": {
        "id": "wXnl2k07YFoJ"
      }
    },
    {
      "cell_type": "code",
      "source": [
        "value = 3.8\n",
        "# float 3.8 is assigned to value\n",
        "convert = int(value)\n",
        "#convert 3.8 to int\n",
        "print(convert)\n",
        "#print the int value\n",
        "print(type(convert))\n",
        "#give type of the converted value which should be an int"
      ],
      "metadata": {
        "id": "-oN8sEEuYIIo",
        "colab": {
          "base_uri": "https://localhost:8080/"
        },
        "outputId": "bccf1bda-4f9e-4ace-cad4-992022b6f3e5"
      },
      "execution_count": null,
      "outputs": [
        {
          "output_type": "stream",
          "name": "stdout",
          "text": [
            "3\n",
            "<class 'int'>\n"
          ]
        }
      ]
    },
    {
      "cell_type": "code",
      "source": [
        "number = int(\"25\")\n",
        "#integer 25 is assigned to number\n",
        "print(number)\n",
        "#print the number\n",
        "print(type(number))\n",
        "#Print the type of the number which should be an int"
      ],
      "metadata": {
        "colab": {
          "base_uri": "https://localhost:8080/"
        },
        "id": "qUpMnH9J7qSW",
        "outputId": "15b11764-ee92-4b3e-fb6f-309a18e3f589"
      },
      "execution_count": null,
      "outputs": [
        {
          "output_type": "stream",
          "name": "stdout",
          "text": [
            "25\n",
            "<class 'int'>\n"
          ]
        }
      ]
    },
    {
      "cell_type": "code",
      "source": [
        "num2 = 'twenty'\n",
        "#twenty is assigned to num2\n",
        "print(len(num2))\n",
        "#len() function is used to give print the length of num2"
      ],
      "metadata": {
        "colab": {
          "base_uri": "https://localhost:8080/"
        },
        "id": "HYyznIPT7vdV",
        "outputId": "bf55d5d3-581f-495a-cb7a-788d2329b557"
      },
      "execution_count": null,
      "outputs": [
        {
          "output_type": "stream",
          "name": "stdout",
          "text": [
            "6\n"
          ]
        }
      ]
    },
    {
      "cell_type": "code",
      "source": [
        "value = 78\n",
        "#integer 78 is assigned to value\n",
        "convert = float(value)\n",
        "#value 78 is converted to float\n",
        "print(convert)\n",
        "#the vlaue is printed after conversion\n",
        "print(type(convert))\n",
        "#print type of the value after conversion\n",
        "convert = float(\"56.48\")\n",
        "#float 56.48 is assigned to convert\n",
        "print(convert)\n",
        "#Print the number assigned to convert\n",
        "print(type(convert))\n",
        "#print the type of number assigned to convert which would be a float"
      ],
      "metadata": {
        "colab": {
          "base_uri": "https://localhost:8080/"
        },
        "id": "VTG9QN1b72dD",
        "outputId": "fa992f97-5fe7-4f4e-9adc-8e8fef7557eb"
      },
      "execution_count": null,
      "outputs": [
        {
          "output_type": "stream",
          "name": "stdout",
          "text": [
            "78.0\n",
            "<class 'float'>\n",
            "56.48\n",
            "<class 'float'>\n"
          ]
        }
      ]
    },
    {
      "cell_type": "code",
      "source": [
        "value = 38\n",
        "#integer 38 is assigned to value\n",
        "convert = complex(value)\n",
        "# the integer assigned to value is converted to complex number\n",
        "print(convert)\n",
        "#print the converted complex number\n",
        "print(type(convert))\n",
        "#print the type of converted number which should be complex\n"
      ],
      "metadata": {
        "colab": {
          "base_uri": "https://localhost:8080/"
        },
        "id": "YG90aoMY78Iy",
        "outputId": "d50bb5dc-aa3b-4cd6-d24f-160d189549b7"
      },
      "execution_count": null,
      "outputs": [
        {
          "output_type": "stream",
          "name": "stdout",
          "text": [
            "(38+0j)\n",
            "<class 'complex'>\n"
          ]
        }
      ]
    },
    {
      "cell_type": "code",
      "source": [
        "value = 28.4875\n",
        "#float 28.4875 is assigned to value\n",
        "convert = str(value)\n",
        "#convert the float value to string\n",
        "print(convert)\n",
        "#print the converted string value\n",
        "print(type(convert))\n",
        "#print type of the cpnverted value\n"
      ],
      "metadata": {
        "id": "_UAEMa6QZngg",
        "colab": {
          "base_uri": "https://localhost:8080/"
        },
        "outputId": "c3e5f7a1-a6af-42a7-84d3-f778890ee727"
      },
      "execution_count": null,
      "outputs": [
        {
          "output_type": "stream",
          "name": "stdout",
          "text": [
            "28.4875\n",
            "<class 'str'>\n"
          ]
        }
      ]
    },
    {
      "cell_type": "code",
      "source": [
        "# value = '5j'\n",
        "# convert = int(value)\n",
        "# print(convert)"
      ],
      "metadata": {
        "id": "Ru-_goLL8SZI"
      },
      "execution_count": null,
      "outputs": []
    },
    {
      "cell_type": "code",
      "source": [
        "data=input(\"please enter a value\")\n",
        "#Take an input of a value\n",
        "print(int(data))\n",
        "#print the input in integer form\n",
        "print(float(data))\n",
        "#print the input in float form\n",
        "print(complex(data))\n",
        "#print the input in complex form\n",
        "print(str(data))\n",
        "#print the inpur in string form"
      ],
      "metadata": {
        "id": "nYfGXTTbZ64I",
        "colab": {
          "base_uri": "https://localhost:8080/"
        },
        "outputId": "2db9c1ec-9235-46ee-bd23-92c0d6e8665b"
      },
      "execution_count": null,
      "outputs": [
        {
          "output_type": "stream",
          "name": "stdout",
          "text": [
            "please enter a value80\n",
            "80\n",
            "80.0\n",
            "(80+0j)\n",
            "80\n"
          ]
        }
      ]
    },
    {
      "cell_type": "code",
      "source": [
        "pi = 3.14159\n",
        "#float 3.14159 is assigned as pi value\n",
        "print(type(pi))\n",
        "#print type of pi value\n",
        "print(int(pi))\n",
        "#print pi value in integer form\n",
        "print(complex(pi))\n",
        "#print pi value in complex form\n",
        "print(str(pi))\n",
        "#print pi value in string form"
      ],
      "metadata": {
        "id": "NGrY2JX-aNJl",
        "colab": {
          "base_uri": "https://localhost:8080/"
        },
        "outputId": "527e28c9-b623-4241-de6e-1980706481d1"
      },
      "execution_count": null,
      "outputs": [
        {
          "output_type": "stream",
          "name": "stdout",
          "text": [
            "<class 'float'>\n",
            "3\n",
            "(3.14159+0j)\n",
            "3.14159\n"
          ]
        }
      ]
    },
    {
      "cell_type": "markdown",
      "source": [
        "OPERATIONS\n",
        "\n",
        "THE MODULUS OPERATOR"
      ],
      "metadata": {
        "id": "g7gv96OJavAs"
      }
    },
    {
      "cell_type": "code",
      "source": [
        "print(259/4)\n",
        "#Divide 259 by 4"
      ],
      "metadata": {
        "id": "ZFm_w0G8a04b",
        "colab": {
          "base_uri": "https://localhost:8080/"
        },
        "outputId": "1e2df3b2-3472-4b32-9a34-d5006f8b13c4"
      },
      "execution_count": null,
      "outputs": [
        {
          "output_type": "stream",
          "name": "stdout",
          "text": [
            "64.75\n"
          ]
        }
      ]
    },
    {
      "cell_type": "code",
      "source": [
        "print(259%4)\n",
        "#modulus operator to find the remainder"
      ],
      "metadata": {
        "id": "f3AssDj-bDTg"
      },
      "execution_count": null,
      "outputs": []
    },
    {
      "cell_type": "markdown",
      "source": [
        "The Power Operator"
      ],
      "metadata": {
        "id": "lGZLPS-n8lEL"
      }
    },
    {
      "cell_type": "code",
      "source": [
        "print(9 ** 4)\n",
        "#print result of 9 to the power of 4\n"
      ],
      "metadata": {
        "colab": {
          "base_uri": "https://localhost:8080/"
        },
        "id": "rsIoQ4eQ8rKL",
        "outputId": "cb2483ff-917b-4951-9e50-4a090e213ea9"
      },
      "execution_count": null,
      "outputs": [
        {
          "output_type": "stream",
          "name": "stdout",
          "text": [
            "6561\n"
          ]
        }
      ]
    },
    {
      "cell_type": "code",
      "source": [
        "2**2\n",
        "#print result of 2 to the power of 2"
      ],
      "metadata": {
        "id": "-1QXhprTbDel",
        "colab": {
          "base_uri": "https://localhost:8080/"
        },
        "outputId": "f88368c0-a6d1-4225-8710-db74e3e8e29e"
      },
      "execution_count": null,
      "outputs": [
        {
          "output_type": "execute_result",
          "data": {
            "text/plain": [
              "4"
            ]
          },
          "metadata": {},
          "execution_count": 17
        }
      ]
    },
    {
      "cell_type": "markdown",
      "source": [
        "The Floor Operator"
      ],
      "metadata": {
        "id": "lrNCDFlXbbXF"
      }
    },
    {
      "cell_type": "code",
      "source": [
        "print(9 // 4)\n",
        "#The floor operator divides the first argument by the second and round the\n",
        "#result down to the nearest whole number,"
      ],
      "metadata": {
        "id": "dDU0xKkBbQhM",
        "colab": {
          "base_uri": "https://localhost:8080/"
        },
        "outputId": "f2bc2f0f-fe0f-43b9-afa7-34a3230f42b2"
      },
      "execution_count": null,
      "outputs": [
        {
          "output_type": "stream",
          "name": "stdout",
          "text": [
            "2\n"
          ]
        }
      ]
    },
    {
      "cell_type": "markdown",
      "source": [
        "Assignment Operator"
      ],
      "metadata": {
        "id": "xLKOmiYDbgmx"
      }
    },
    {
      "cell_type": "code",
      "source": [
        "x = 9\n",
        "#assign 9 to x"
      ],
      "metadata": {
        "id": "PrrTBQXCbiZ4"
      },
      "execution_count": null,
      "outputs": []
    },
    {
      "cell_type": "code",
      "source": [
        "x += 4\n",
        "#add 4 to x\n",
        "print(x)"
      ],
      "metadata": {
        "id": "GFontzBZcAqG"
      },
      "execution_count": null,
      "outputs": []
    },
    {
      "cell_type": "code",
      "source": [
        "# x = x + 4\n",
        "x -= 4\n",
        "#Subtract 4 from x\n",
        "print(x)"
      ],
      "metadata": {
        "id": "Zz1ETe3I8-6k"
      },
      "execution_count": null,
      "outputs": []
    },
    {
      "cell_type": "code",
      "source": [
        "x *= 4\n",
        "#Multiply 4 to x\n",
        "print(x)"
      ],
      "metadata": {
        "id": "SD7Dotyz8-9Y"
      },
      "execution_count": null,
      "outputs": []
    },
    {
      "cell_type": "code",
      "source": [
        "x /= 4\n",
        "#Divide x by 4\n",
        "print(x)"
      ],
      "metadata": {
        "id": "fZKJ0VW_9IEx"
      },
      "execution_count": null,
      "outputs": []
    },
    {
      "cell_type": "code",
      "source": [
        "x %= 4\n",
        "#remainder after division with 4\n",
        "print(x)\n",
        "#print value of x\n",
        "x **= 4\n",
        "#x raised to power of 4\n",
        "print(x)\n",
        "#print x\n",
        "x //= 4\n",
        "#Divide x by 4 and give result as whole number\n",
        "print(x)\n",
        "#print value of x"
      ],
      "metadata": {
        "id": "KyiN7W4m9IH6"
      },
      "execution_count": null,
      "outputs": []
    },
    {
      "cell_type": "markdown",
      "source": [
        "**Assignment**"
      ],
      "metadata": {
        "id": "0MnjKXr3cBUN"
      }
    },
    {
      "cell_type": "code",
      "source": [
        "num = int(input('enter a number: '))\n"
      ],
      "metadata": {
        "id": "mtHjj5tJcHg2"
      },
      "execution_count": null,
      "outputs": []
    },
    {
      "cell_type": "code",
      "source": [
        "num+= 4\n",
        "message = \"After adding 4 the number is {}\".format(num)\n",
        "print(message)"
      ],
      "metadata": {
        "id": "Y2Sic7W8czHy"
      },
      "execution_count": null,
      "outputs": []
    },
    {
      "cell_type": "code",
      "source": [
        "num*=4\n",
        "message = \"After multiplying 4 to the number is {}\".format(num)\n",
        "print(message)"
      ],
      "metadata": {
        "id": "Ge1-QvG8c7S4"
      },
      "execution_count": null,
      "outputs": []
    },
    {
      "cell_type": "code",
      "source": [
        "num-=4\n",
        "message = \"After subtracting 4 to the number is {}\".format(num)\n",
        "print(message)"
      ],
      "metadata": {
        "id": "WCxrqzRHdAQx"
      },
      "execution_count": null,
      "outputs": []
    },
    {
      "cell_type": "code",
      "source": [
        "num/=4\n",
        "message = \"After dividing 4 to the number is {}\".format(num)\n",
        "print(message)"
      ],
      "metadata": {
        "id": "Qi0pzIj9dIX2"
      },
      "execution_count": null,
      "outputs": []
    }
  ]
}