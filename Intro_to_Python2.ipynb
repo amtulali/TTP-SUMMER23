{
  "nbformat": 4,
  "nbformat_minor": 0,
  "metadata": {
    "colab": {
      "provenance": [],
      "authorship_tag": "ABX9TyOZj4DvoF+iD9LgGbrFoPOM",
      "include_colab_link": true
    },
    "kernelspec": {
      "name": "python3",
      "display_name": "Python 3"
    },
    "language_info": {
      "name": "python"
    }
  },
  "cells": [
    {
      "cell_type": "markdown",
      "metadata": {
        "id": "view-in-github",
        "colab_type": "text"
      },
      "source": [
        "<a href=\"https://colab.research.google.com/github/amtulali/TTP-SUMMER23/blob/main/Intro_to_Python2.ipynb\" target=\"_parent\"><img src=\"https://colab.research.google.com/assets/colab-badge.svg\" alt=\"Open In Colab\"/></a>"
      ]
    },
    {
      "cell_type": "markdown",
      "source": [
        "# New Section"
      ],
      "metadata": {
        "id": "o9Bm7w7bukHB"
      }
    },
    {
      "cell_type": "code",
      "source": [],
      "metadata": {
        "id": "1Aan8uLLSH24"
      },
      "execution_count": null,
      "outputs": []
    },
    {
      "cell_type": "markdown",
      "source": [
        "**Operators**"
      ],
      "metadata": {
        "id": "cUSGbtxVunVo"
      }
    },
    {
      "cell_type": "markdown",
      "source": [
        "Boolean Operators"
      ],
      "metadata": {
        "id": "iXKwEnfUwm1q"
      }
    },
    {
      "cell_type": "code",
      "source": [
        "is_day = True\n",
        "#Boolean - a conditional check"
      ],
      "metadata": {
        "id": "5njuI6S2wddb"
      },
      "execution_count": null,
      "outputs": []
    },
    {
      "cell_type": "code",
      "source": [
        "is_night=False\n",
        "#Boolean - a conditional check\n",
        "print(is_day)\n",
        "#print true"
      ],
      "metadata": {
        "colab": {
          "base_uri": "https://localhost:8080/"
        },
        "id": "GQN1GJdtwd4H",
        "outputId": "994ca5e7-2c86-4454-ff8c-567cfa6234a1"
      },
      "execution_count": null,
      "outputs": [
        {
          "output_type": "stream",
          "name": "stdout",
          "text": [
            "True\n"
          ]
        }
      ]
    },
    {
      "cell_type": "markdown",
      "source": [
        "# New Section"
      ],
      "metadata": {
        "id": "85j-xRgHwbo7"
      }
    },
    {
      "cell_type": "markdown",
      "source": [
        "Coparison Operators"
      ],
      "metadata": {
        "id": "Yg2nNFNyw7_r"
      }
    },
    {
      "cell_type": "code",
      "source": [
        "x , y = 9, 25\n",
        "#assigning 9 to x and 25 to y\n"
      ],
      "metadata": {
        "id": "_IXYxakcwkYH"
      },
      "execution_count": 1,
      "outputs": []
    },
    {
      "cell_type": "code",
      "source": [
        "print(x==y)\n",
        "#if x is equal to y then return true else false\n"
      ],
      "metadata": {
        "colab": {
          "base_uri": "https://localhost:8080/"
        },
        "id": "HehOoH0lxHEC",
        "outputId": "924469d5-77c3-4bf8-ee52-711a5c65f34c"
      },
      "execution_count": 2,
      "outputs": [
        {
          "output_type": "stream",
          "name": "stdout",
          "text": [
            "False\n"
          ]
        }
      ]
    },
    {
      "cell_type": "code",
      "source": [
        "print(x != y)\n",
        "# If x is not equal to y then true else false"
      ],
      "metadata": {
        "id": "B4R3J82p_5Kt",
        "colab": {
          "base_uri": "https://localhost:8080/"
        },
        "outputId": "a290c89f-c4cf-493a-d9e3-838fd040a436"
      },
      "execution_count": 3,
      "outputs": [
        {
          "output_type": "stream",
          "name": "stdout",
          "text": [
            "True\n"
          ]
        }
      ]
    },
    {
      "cell_type": "code",
      "source": [
        "print(x > y)\n",
        "#If x greater than y return true else false"
      ],
      "metadata": {
        "colab": {
          "base_uri": "https://localhost:8080/"
        },
        "id": "YBDsv0wJGXMG",
        "outputId": "c2701fe0-9a5a-4a71-f11a-8956005faa43"
      },
      "execution_count": 4,
      "outputs": [
        {
          "output_type": "stream",
          "name": "stdout",
          "text": [
            "False\n"
          ]
        }
      ]
    },
    {
      "cell_type": "code",
      "source": [
        "print(x < y)\n",
        "#if x is less than y print true else false"
      ],
      "metadata": {
        "id": "2gb_lD_EGXSK"
      },
      "execution_count": null,
      "outputs": []
    },
    {
      "cell_type": "markdown",
      "source": [
        "Logical Operators"
      ],
      "metadata": {
        "id": "TCXA1JnJGwfq"
      }
    },
    {
      "cell_type": "code",
      "source": [
        "print(x > 5 and y < 30)\n",
        "#True if x is greater than 5 and y is less than 30, else false"
      ],
      "metadata": {
        "colab": {
          "base_uri": "https://localhost:8080/"
        },
        "id": "X7DtfWW6GXad",
        "outputId": "fceb5bf7-657e-4577-eae5-1cf7e696f12e"
      },
      "execution_count": 5,
      "outputs": [
        {
          "output_type": "stream",
          "name": "stdout",
          "text": [
            "True\n"
          ]
        }
      ]
    },
    {
      "cell_type": "code",
      "source": [
        "print(x > 5 or y < 30)\n",
        "#Print true if either x is greater than 5 or y is less than 30, else false"
      ],
      "metadata": {
        "colab": {
          "base_uri": "https://localhost:8080/"
        },
        "id": "6AEMMrxxHC4b",
        "outputId": "445c84f7-16a0-40d1-c887-a565354dfb23"
      },
      "execution_count": 6,
      "outputs": [
        {
          "output_type": "stream",
          "name": "stdout",
          "text": [
            "True\n"
          ]
        }
      ]
    },
    {
      "cell_type": "code",
      "source": [
        "print(not(x > 5))\n",
        "#True is x is not greater than 5 else false"
      ],
      "metadata": {
        "colab": {
          "base_uri": "https://localhost:8080/"
        },
        "id": "RTjmrXvdHVHt",
        "outputId": "0a887915-0a37-472a-9106-0e95a861927a"
      },
      "execution_count": 7,
      "outputs": [
        {
          "output_type": "stream",
          "name": "stdout",
          "text": [
            "False\n"
          ]
        }
      ]
    },
    {
      "cell_type": "code",
      "source": [
        "result = 5.3 * 8.58 >= 3.23 * 15.3\n",
        "#45.474 >= 49.419\n",
        "print(result)\n",
        "#if 45.474 is greater and equal to 49.419 then true else false"
      ],
      "metadata": {
        "colab": {
          "base_uri": "https://localhost:8080/"
        },
        "id": "lEhsMOeTHVQ7",
        "outputId": "2851761d-d853-42f2-80e5-3f21aed34e22"
      },
      "execution_count": 8,
      "outputs": [
        {
          "output_type": "stream",
          "name": "stdout",
          "text": [
            "False\n"
          ]
        }
      ]
    },
    {
      "cell_type": "code",
      "source": [
        "print(\"cat\" == \"cat\")\n",
        "#true if cat is equal to cat else false"
      ],
      "metadata": {
        "colab": {
          "base_uri": "https://localhost:8080/"
        },
        "id": "92QadH0EHVYj",
        "outputId": "23335b79-23f4-451c-9778-fcdc83d56310"
      },
      "execution_count": 9,
      "outputs": [
        {
          "output_type": "stream",
          "name": "stdout",
          "text": [
            "True\n"
          ]
        }
      ]
    },
    {
      "cell_type": "code",
      "source": [
        "print(\"cat\" is not \"dog\")\n",
        "#True if cat is not dog else false"
      ],
      "metadata": {
        "colab": {
          "base_uri": "https://localhost:8080/"
        },
        "id": "nhQxh9_5Hiza",
        "outputId": "0ecb1656-7b28-42de-c1a0-dc34d2d62c80"
      },
      "execution_count": 11,
      "outputs": [
        {
          "output_type": "stream",
          "name": "stdout",
          "text": [
            "True\n"
          ]
        },
        {
          "output_type": "stream",
          "name": "stderr",
          "text": [
            "<>:1: SyntaxWarning: \"is not\" with a literal. Did you mean \"!=\"?\n",
            "<>:1: SyntaxWarning: \"is not\" with a literal. Did you mean \"!=\"?\n",
            "<ipython-input-11-bf1d8c846d04>:1: SyntaxWarning: \"is not\" with a literal. Did you mean \"!=\"?\n",
            "  print(\"cat\" is not \"dog\")\n"
          ]
        }
      ]
    },
    {
      "cell_type": "code",
      "source": [
        "fruit = \"banana\"\n",
        "#Banana is assigned to fruit\n",
        "print(\"na\" in fruit)\n",
        "#Print true if na is in banana else false\n",
        "print(\"na\" not in fruit)\n",
        "#print true if na is not in fruit else false"
      ],
      "metadata": {
        "colab": {
          "base_uri": "https://localhost:8080/"
        },
        "id": "HUMisygbHi48",
        "outputId": "ed8a3bc1-d46e-4c00-8cf1-68560202bf41"
      },
      "execution_count": 12,
      "outputs": [
        {
          "output_type": "stream",
          "name": "stdout",
          "text": [
            "True\n",
            "False\n"
          ]
        }
      ]
    },
    {
      "cell_type": "markdown",
      "source": [
        "**COLLECTION DATA TYPES**"
      ],
      "metadata": {
        "id": "giuGxzZdKWqS"
      }
    },
    {
      "cell_type": "markdown",
      "source": [
        "**Lists**"
      ],
      "metadata": {
        "id": "h_E2vkIUKbWs"
      }
    },
    {
      "cell_type": "code",
      "source": [
        "numbers = [3, 7, 5, 4, 7, 5, 6, 3, 3, 3, 3]\n",
        "#a list named numbers is defined\n",
        "print(numbers)\n",
        "#Print the list\n",
        "print(numbers[1])\n",
        "#Print the second element in the list\n",
        "print(numbers[-1])\n",
        "#Print the last element in the list"
      ],
      "metadata": {
        "id": "oqQsV3BhyRcV",
        "colab": {
          "base_uri": "https://localhost:8080/"
        },
        "outputId": "937be68e-a356-4b54-9f56-46d5a6a35829"
      },
      "execution_count": 13,
      "outputs": [
        {
          "output_type": "stream",
          "name": "stdout",
          "text": [
            "[3, 7, 5, 4, 7, 5, 6, 3, 3, 3, 3]\n",
            "7\n",
            "3\n"
          ]
        }
      ]
    },
    {
      "cell_type": "code",
      "source": [
        "names = [\"Alice\", \"Bob\", \"Carol\", \"Dan\"]\n",
        "#A list named names is defined\n",
        "print(names[0])\n",
        "#print the first element of the list\n",
        "print(names[2])\n",
        "#Print the third element of the list"
      ],
      "metadata": {
        "id": "uMFyOAwfzu_v",
        "colab": {
          "base_uri": "https://localhost:8080/"
        },
        "outputId": "c48662f3-d714-4f28-dea3-81a953f1ea23"
      },
      "execution_count": 14,
      "outputs": [
        {
          "output_type": "stream",
          "name": "stdout",
          "text": [
            "Alice\n",
            "Carol\n"
          ]
        }
      ]
    },
    {
      "cell_type": "code",
      "source": [
        "print(names[0][1])\n",
        "#Print the second element of first name in the list"
      ],
      "metadata": {
        "colab": {
          "base_uri": "https://localhost:8080/"
        },
        "id": "6WtB_Z-JLabm",
        "outputId": "4cb5464b-8e2d-4be9-8264-3cfad2be372c"
      },
      "execution_count": 16,
      "outputs": [
        {
          "output_type": "stream",
          "name": "stdout",
          "text": [
            "l\n"
          ]
        }
      ]
    },
    {
      "cell_type": "code",
      "source": [
        "print(names[-3])\n",
        "#Print the third element from reverse order"
      ],
      "metadata": {
        "colab": {
          "base_uri": "https://localhost:8080/"
        },
        "id": "9f6GEIvEL0Fn",
        "outputId": "8fcaa2a2-43f0-4bb3-e6c2-323d844e5c66"
      },
      "execution_count": 17,
      "outputs": [
        {
          "output_type": "stream",
          "name": "stdout",
          "text": [
            "Bob\n"
          ]
        }
      ]
    },
    {
      "cell_type": "code",
      "source": [
        "print(names[1:3])\n",
        "#print element , Start at 1 and stop before index 3"
      ],
      "metadata": {
        "colab": {
          "base_uri": "https://localhost:8080/"
        },
        "id": "UOnofnnOL0Mw",
        "outputId": "6ac7b7be-7b0c-4a32-85fc-f096cd3e6960"
      },
      "execution_count": 18,
      "outputs": [
        {
          "output_type": "stream",
          "name": "stdout",
          "text": [
            "['Bob', 'Carol']\n"
          ]
        }
      ]
    },
    {
      "cell_type": "code",
      "source": [
        "print(names[0:-1])\n",
        "#print element , Start at 0 and stop before index -1"
      ],
      "metadata": {
        "colab": {
          "base_uri": "https://localhost:8080/"
        },
        "id": "W-32-sOrL0S-",
        "outputId": "a7f779ee-1c82-43fc-97f7-37c5ba70b266"
      },
      "execution_count": 19,
      "outputs": [
        {
          "output_type": "stream",
          "name": "stdout",
          "text": [
            "['Alice', 'Bob', 'Carol']\n"
          ]
        }
      ]
    },
    {
      "cell_type": "code",
      "source": [
        "print(names[0:])\n",
        "#print elements from index 0 to all"
      ],
      "metadata": {
        "colab": {
          "base_uri": "https://localhost:8080/"
        },
        "id": "sHrbjavRL73E",
        "outputId": "90589fad-6a0e-49fb-a27d-1a66567e6cbd"
      },
      "execution_count": 20,
      "outputs": [
        {
          "output_type": "stream",
          "name": "stdout",
          "text": [
            "['Alice', 'Bob', 'Carol', 'Dan']\n"
          ]
        }
      ]
    },
    {
      "cell_type": "code",
      "source": [
        "names[1] = \"Jane\"\n",
        "#The elelment in index one is changed to Jane\n",
        "print(names)\n",
        "#Print names aftert the change made to the list"
      ],
      "metadata": {
        "colab": {
          "base_uri": "https://localhost:8080/"
        },
        "id": "dw266JtVL79N",
        "outputId": "110f1ded-23ca-4ece-db51-ebc9216406dc"
      },
      "execution_count": 21,
      "outputs": [
        {
          "output_type": "stream",
          "name": "stdout",
          "text": [
            "['Alice', 'Jane', 'Carol', 'Dan']\n"
          ]
        }
      ]
    },
    {
      "cell_type": "markdown",
      "source": [
        "**Nested Lists**"
      ],
      "metadata": {
        "id": "XmuliB-LMMHk"
      }
    },
    {
      "cell_type": "markdown",
      "source": [
        "Strings are immutable/  Lists are mutable"
      ],
      "metadata": {
        "id": "sw6lM7eZ0URV"
      }
    },
    {
      "cell_type": "code",
      "source": [
        "matrix = [[1,2,3,4],[5,6,7,8]]\n",
        "#initializing matrix"
      ],
      "metadata": {
        "id": "SmGI5LbbSJSt"
      },
      "execution_count": 2,
      "outputs": []
    },
    {
      "cell_type": "markdown",
      "source": [
        "First bracket is row, second bracket is the column of that row"
      ],
      "metadata": {
        "id": "5GkwF4_ySoah"
      }
    },
    {
      "cell_type": "code",
      "source": [
        "print(matrix)\n",
        "#print the matrix"
      ],
      "metadata": {
        "id": "cbkVjM6CSJWA",
        "colab": {
          "base_uri": "https://localhost:8080/"
        },
        "outputId": "31cb892f-3538-4ed6-b6bf-ba49188d8e9a"
      },
      "execution_count": 3,
      "outputs": [
        {
          "output_type": "stream",
          "name": "stdout",
          "text": [
            "[[1, 2, 3, 4], [5, 6, 7, 8]]\n"
          ]
        }
      ]
    },
    {
      "cell_type": "code",
      "source": [
        "print(matrix[0][1])\n",
        "#Print second element of first [] of matrix"
      ],
      "metadata": {
        "colab": {
          "base_uri": "https://localhost:8080/"
        },
        "id": "DQ43Y8EiOIbT",
        "outputId": "cc5f8c74-3b95-471d-d9c6-addebb3f9ff5"
      },
      "execution_count": 4,
      "outputs": [
        {
          "output_type": "stream",
          "name": "stdout",
          "text": [
            "2\n"
          ]
        }
      ]
    },
    {
      "cell_type": "code",
      "source": [
        "matrix2 = [[[1,2],[3,4,5]],[[6,7,8],[9,10,11]]]\n",
        "#initializing matrix"
      ],
      "metadata": {
        "id": "3ZMO4zd0OWlm"
      },
      "execution_count": 8,
      "outputs": []
    },
    {
      "cell_type": "code",
      "source": [
        "print(len(matrix2))\n",
        "#print length of matrix"
      ],
      "metadata": {
        "id": "ELqOVZ4CSJZr",
        "colab": {
          "base_uri": "https://localhost:8080/"
        },
        "outputId": "eb3dda3a-85d2-412f-8fe2-cf5e06ddc600"
      },
      "execution_count": 9,
      "outputs": [
        {
          "output_type": "stream",
          "name": "stdout",
          "text": [
            "2\n"
          ]
        }
      ]
    },
    {
      "cell_type": "code",
      "source": [
        "print(matrix2)\n",
        "#print matrix2"
      ],
      "metadata": {
        "colab": {
          "base_uri": "https://localhost:8080/"
        },
        "id": "8n8Ki-NFOpy0",
        "outputId": "b93aa572-12e8-4c7f-b53e-beb79c30f7c1"
      },
      "execution_count": 10,
      "outputs": [
        {
          "output_type": "stream",
          "name": "stdout",
          "text": [
            "[[[1, 2], [3, 4, 5]], [[6, 7, 8], [9, 10, 11]]]\n"
          ]
        }
      ]
    },
    {
      "cell_type": "code",
      "source": [
        "print(matrix2[0][1][1])\n",
        "#print from first [], second[], seond element"
      ],
      "metadata": {
        "id": "IbqjlGjuSJcy",
        "colab": {
          "base_uri": "https://localhost:8080/"
        },
        "outputId": "218c6570-1b12-42a0-9585-6d327febe0e6"
      },
      "execution_count": 11,
      "outputs": [
        {
          "output_type": "stream",
          "name": "stdout",
          "text": [
            "4\n"
          ]
        }
      ]
    },
    {
      "cell_type": "markdown",
      "source": [
        "list functions"
      ],
      "metadata": {
        "id": "ctGmlt8RTkFf"
      }
    },
    {
      "cell_type": "code",
      "source": [
        "pets = ['cats', 'dog','parrot']\n",
        "#define list pets\n",
        "print(len(pets))\n",
        "#give length of pets"
      ],
      "metadata": {
        "id": "J70m6CGaSJgG",
        "colab": {
          "base_uri": "https://localhost:8080/"
        },
        "outputId": "891f6c99-c874-43e8-88b4-f097db433f83"
      },
      "execution_count": 41,
      "outputs": [
        {
          "output_type": "stream",
          "name": "stdout",
          "text": [
            "3\n"
          ]
        }
      ]
    },
    {
      "cell_type": "code",
      "source": [
        "print(pets)\n",
        "#print the list of pets\n",
        "pets.append('zebra')\n",
        "#add zebra to the end of list pets\n",
        "print(pets)\n",
        "#print pets after adding element"
      ],
      "metadata": {
        "id": "9gakXBJ4V5kV",
        "colab": {
          "base_uri": "https://localhost:8080/"
        },
        "outputId": "f4009a0a-af3c-4bd4-d6d0-bed1ca7cebae"
      },
      "execution_count": 42,
      "outputs": [
        {
          "output_type": "stream",
          "name": "stdout",
          "text": [
            "['cats', 'dog', 'parrot']\n",
            "['cats', 'dog', 'parrot', 'zebra']\n"
          ]
        }
      ]
    },
    {
      "cell_type": "code",
      "source": [
        "dir(pets)\n",
        "#dierectory of list pets"
      ],
      "metadata": {
        "id": "roPkdEw5Pfi0"
      },
      "execution_count": null,
      "outputs": []
    },
    {
      "cell_type": "code",
      "source": [
        "print(pets)\n",
        "#print pets\n",
        "pets.insert(1,\"fish\")\n",
        "#insert fish in the second position\n",
        "print(pets)\n",
        "#print pets after the required changes"
      ],
      "metadata": {
        "colab": {
          "base_uri": "https://localhost:8080/"
        },
        "id": "1xhe7HnBPtSe",
        "outputId": "591e257a-7b69-4ef9-8126-b977e67bcf4f"
      },
      "execution_count": 45,
      "outputs": [
        {
          "output_type": "stream",
          "name": "stdout",
          "text": [
            "['cats', 'dog', 'parrot', 'zebra']\n",
            "['cats', 'fish', 'dog', 'parrot', 'zebra']\n"
          ]
        }
      ]
    },
    {
      "cell_type": "code",
      "source": [
        "print('tiger' in pets)\n",
        "#print true if tiger is in pets else false"
      ],
      "metadata": {
        "id": "21oEdgslSJi-",
        "colab": {
          "base_uri": "https://localhost:8080/"
        },
        "outputId": "68df2fd1-8d4c-4006-df2a-60bed183f6b4"
      },
      "execution_count": 32,
      "outputs": [
        {
          "output_type": "stream",
          "name": "stdout",
          "text": [
            "False\n"
          ]
        }
      ]
    },
    {
      "cell_type": "code",
      "source": [
        "print(\"cat\" in pets)\n",
        "#print true if cat in pets else false\n",
        "#it will return false as we have cats, not cat"
      ],
      "metadata": {
        "colab": {
          "base_uri": "https://localhost:8080/"
        },
        "id": "Mx7Gy6TDP6TR",
        "outputId": "69c8d43b-4f96-4781-f6b8-89988b341d7d"
      },
      "execution_count": 46,
      "outputs": [
        {
          "output_type": "stream",
          "name": "stdout",
          "text": [
            "False\n"
          ]
        }
      ]
    },
    {
      "cell_type": "code",
      "source": [
        "pets.remove(\"cats\")\n",
        "#remove cats from pets\n",
        "print(pets)\n",
        "#print pets"
      ],
      "metadata": {
        "colab": {
          "base_uri": "https://localhost:8080/"
        },
        "id": "DKR614pGQJXs",
        "outputId": "ed715cfd-b136-4bc7-ce8e-d17689f247be"
      },
      "execution_count": 47,
      "outputs": [
        {
          "output_type": "stream",
          "name": "stdout",
          "text": [
            "['fish', 'dog', 'parrot', 'zebra']\n"
          ]
        }
      ]
    },
    {
      "cell_type": "code",
      "source": [
        "print(pets[3])\n",
        "#print fourth element of list pets"
      ],
      "metadata": {
        "colab": {
          "base_uri": "https://localhost:8080/"
        },
        "id": "Wm-fDlDJQc8U",
        "outputId": "4aa65093-1422-4bd3-9317-89a51104ba0e"
      },
      "execution_count": 48,
      "outputs": [
        {
          "output_type": "stream",
          "name": "stdout",
          "text": [
            "zebra\n"
          ]
        }
      ]
    },
    {
      "cell_type": "code",
      "source": [
        "pets.pop()\n",
        "#take out last elment of the list\n",
        "print(pets)"
      ],
      "metadata": {
        "id": "k7bqCHYGSJmY",
        "colab": {
          "base_uri": "https://localhost:8080/"
        },
        "outputId": "ac2c18e8-8ef9-4b81-fd5c-b2d27f46f799"
      },
      "execution_count": 49,
      "outputs": [
        {
          "output_type": "stream",
          "name": "stdout",
          "text": [
            "['fish', 'dog', 'parrot']\n"
          ]
        }
      ]
    },
    {
      "cell_type": "code",
      "source": [
        "pets.pop(0)\n",
        "#take out element on the first index"
      ],
      "metadata": {
        "id": "fn_a2QYCSJpE",
        "colab": {
          "base_uri": "https://localhost:8080/",
          "height": 36
        },
        "outputId": "0d7a97c6-587a-4a16-83a4-080dae643be5"
      },
      "execution_count": 50,
      "outputs": [
        {
          "output_type": "execute_result",
          "data": {
            "text/plain": [
              "'fish'"
            ],
            "application/vnd.google.colaboratory.intrinsic+json": {
              "type": "string"
            }
          },
          "metadata": {},
          "execution_count": 50
        }
      ]
    },
    {
      "cell_type": "code",
      "source": [
        "del pets[0]\n",
        "#delete the first element of list\n",
        "print(pets)\n",
        "#print the list pets"
      ],
      "metadata": {
        "id": "elZ21DceU_Uc",
        "colab": {
          "base_uri": "https://localhost:8080/"
        },
        "outputId": "b526c5fd-dcab-492c-c881-8e55278ee7f3"
      },
      "execution_count": 51,
      "outputs": [
        {
          "output_type": "stream",
          "name": "stdout",
          "text": [
            "['parrot']\n"
          ]
        }
      ]
    },
    {
      "cell_type": "code",
      "source": [
        "pets.clear()\n",
        "#clear the whole list\n",
        "print(pets)\n",
        "#print the list"
      ],
      "metadata": {
        "id": "7jQfqWjRSJrm",
        "colab": {
          "base_uri": "https://localhost:8080/"
        },
        "outputId": "8a910a9d-836a-430d-915c-edd24d1fe34a"
      },
      "execution_count": 52,
      "outputs": [
        {
          "output_type": "stream",
          "name": "stdout",
          "text": [
            "[]\n"
          ]
        }
      ]
    },
    {
      "cell_type": "code",
      "source": [
        "pets = None"
      ],
      "metadata": {
        "id": "mJ2EzESyU6C5"
      },
      "execution_count": 53,
      "outputs": []
    },
    {
      "cell_type": "markdown",
      "source": [
        "Iterator"
      ],
      "metadata": {
        "id": "euCS3hc9VkGZ"
      }
    },
    {
      "cell_type": "code",
      "source": [
        "my_cat = \"fishy\"\n",
        "# Assign fishy to my_cat\n",
        "my_iterator = iter(my_cat)\n",
        "#iter() function to access one element at a time"
      ],
      "metadata": {
        "id": "eKENeT_8U6GM"
      },
      "execution_count": 55,
      "outputs": []
    },
    {
      "cell_type": "code",
      "source": [
        "print(next(my_iterator))\n",
        "#print the next element"
      ],
      "metadata": {
        "id": "XQIdXwj9U6Jc",
        "colab": {
          "base_uri": "https://localhost:8080/"
        },
        "outputId": "546af3b3-2aa9-4f50-c398-a86f8afef341"
      },
      "execution_count": 56,
      "outputs": [
        {
          "output_type": "stream",
          "name": "stdout",
          "text": [
            "f\n"
          ]
        }
      ]
    },
    {
      "cell_type": "code",
      "source": [
        "print(next(my_iterator))\n",
        "#then the next"
      ],
      "metadata": {
        "id": "0Pxo7g41U6NP",
        "colab": {
          "base_uri": "https://localhost:8080/"
        },
        "outputId": "7d0a84ca-b8f7-480e-eeca-96144efd74b5"
      },
      "execution_count": 57,
      "outputs": [
        {
          "output_type": "stream",
          "name": "stdout",
          "text": [
            "i\n"
          ]
        }
      ]
    },
    {
      "cell_type": "code",
      "source": [
        "print(next(my_iterator))\n",
        "#then the next element"
      ],
      "metadata": {
        "id": "k9mPmJWGU6P6",
        "colab": {
          "base_uri": "https://localhost:8080/"
        },
        "outputId": "79116c26-4a32-4c80-d7b0-2ea251d93988"
      },
      "execution_count": 58,
      "outputs": [
        {
          "output_type": "stream",
          "name": "stdout",
          "text": [
            "s\n"
          ]
        }
      ]
    },
    {
      "cell_type": "markdown",
      "source": [
        "Tuples, immutable list"
      ],
      "metadata": {
        "id": "vF52DiO8Wq93"
      }
    },
    {
      "cell_type": "code",
      "source": [
        "dinner = ('chicken', 'fries', 18)\n",
        "#assign a tuple to dinner\n",
        "print(dinner)\n",
        "#print the tuple dinner\n"
      ],
      "metadata": {
        "id": "In-1MvfYWs7S",
        "colab": {
          "base_uri": "https://localhost:8080/"
        },
        "outputId": "2e78d1a4-d84d-4711-8907-9c12fc44ecfc"
      },
      "execution_count": 59,
      "outputs": [
        {
          "output_type": "stream",
          "name": "stdout",
          "text": [
            "('chicken', 'fries', 18)\n"
          ]
        }
      ]
    },
    {
      "cell_type": "code",
      "source": [
        "type(dinner)\n",
        "#give the type of the tuple"
      ],
      "metadata": {
        "id": "ghONijgaWtGO",
        "colab": {
          "base_uri": "https://localhost:8080/"
        },
        "outputId": "067dfcf2-f997-4d00-c0fe-985d0a65f7c9"
      },
      "execution_count": 62,
      "outputs": [
        {
          "output_type": "execute_result",
          "data": {
            "text/plain": [
              "tuple"
            ]
          },
          "metadata": {},
          "execution_count": 62
        }
      ]
    },
    {
      "cell_type": "code",
      "source": [
        "print(dinner[0])\n",
        "#print the first element of dinner"
      ],
      "metadata": {
        "id": "U4ycXWgCWtTI",
        "colab": {
          "base_uri": "https://localhost:8080/"
        },
        "outputId": "6d245906-7d32-42cc-9e33-057cfb7606b6"
      },
      "execution_count": 61,
      "outputs": [
        {
          "output_type": "stream",
          "name": "stdout",
          "text": [
            "chicken\n"
          ]
        }
      ]
    },
    {
      "cell_type": "code",
      "source": [
        "print(dinner[-1])\n",
        "#print the last element of dinner"
      ],
      "metadata": {
        "id": "yOvWZY4BWtZY",
        "colab": {
          "base_uri": "https://localhost:8080/"
        },
        "outputId": "b91fe1a2-8e88-458f-a90d-cee04878b8e2"
      },
      "execution_count": 60,
      "outputs": [
        {
          "output_type": "stream",
          "name": "stdout",
          "text": [
            "18\n"
          ]
        }
      ]
    },
    {
      "cell_type": "code",
      "source": [
        "new_dinner = dinner[:-1]\n",
        "#a new tuple with elements without the last element\n",
        "print(new_dinner)\n",
        "#print the new tuple"
      ],
      "metadata": {
        "colab": {
          "base_uri": "https://localhost:8080/"
        },
        "id": "gX6aQON4Rco1",
        "outputId": "59c9be48-0bed-44c8-e4f8-b4787ecf86d8"
      },
      "execution_count": 63,
      "outputs": [
        {
          "output_type": "stream",
          "name": "stdout",
          "text": [
            "('chicken', 'fries')\n"
          ]
        }
      ]
    },
    {
      "cell_type": "code",
      "source": [
        "new = new_dinner + (\"cheese\",)\n",
        "#the only way to add an element to a tuple"
      ],
      "metadata": {
        "id": "ixTTMiUvRcrY"
      },
      "execution_count": 64,
      "outputs": []
    },
    {
      "cell_type": "code",
      "source": [
        "print(new)\n",
        "#print the new tuple after adding a new element"
      ],
      "metadata": {
        "colab": {
          "base_uri": "https://localhost:8080/"
        },
        "id": "9uwchcgbRcug",
        "outputId": "27bf676a-bf34-4789-c5c6-fd0162d60e72"
      },
      "execution_count": 65,
      "outputs": [
        {
          "output_type": "stream",
          "name": "stdout",
          "text": [
            "('chicken', 'fries', 'cheese')\n"
          ]
        }
      ]
    },
    {
      "cell_type": "code",
      "source": [
        "newer = list(new)\n",
        "#This will change the new tuple to a list\n",
        "print(newer)\n",
        "#Print the list newer"
      ],
      "metadata": {
        "colab": {
          "base_uri": "https://localhost:8080/"
        },
        "id": "4vyjaeFARcxD",
        "outputId": "ac02b05c-15bd-4929-9b1e-63b721c5bf19"
      },
      "execution_count": 74,
      "outputs": [
        {
          "output_type": "stream",
          "name": "stdout",
          "text": [
            "['chicken', 'fries', 'cheese']\n"
          ]
        }
      ]
    },
    {
      "cell_type": "code",
      "source": [
        "newer.append(\"watermelon\")\n",
        "#add watermelon to the list\n",
        "print(newer)\n",
        "#print the list"
      ],
      "metadata": {
        "colab": {
          "base_uri": "https://localhost:8080/"
        },
        "id": "vDi42SIyRczW",
        "outputId": "d08a7921-a0e7-45f0-a96f-4263b4658ed6"
      },
      "execution_count": 75,
      "outputs": [
        {
          "output_type": "stream",
          "name": "stdout",
          "text": [
            "['chicken', 'fries', 'cheese', 'watermelon']\n"
          ]
        }
      ]
    },
    {
      "cell_type": "code",
      "source": [
        "new2 = tuple(newer)\n",
        "#change the list back to tuple\n",
        "print(new2)\n",
        "#print the tuple"
      ],
      "metadata": {
        "colab": {
          "base_uri": "https://localhost:8080/"
        },
        "id": "mqn4ofMYRc1a",
        "outputId": "df9ea035-d96e-4e34-87df-aab21aae10f2"
      },
      "execution_count": 76,
      "outputs": [
        {
          "output_type": "stream",
          "name": "stdout",
          "text": [
            "('chicken', 'fries', 'cheese', 'watermelon')\n"
          ]
        }
      ]
    },
    {
      "cell_type": "code",
      "source": [
        "db = (\"oracle\",\"sql\")\n",
        "#assign a tuple db\n",
        "new_db = db + (\"mongodb\",\"aws\")\n",
        "#add some element to the tuple\n",
        "print(new_db)\n",
        "#print the tuple after the addition of elements"
      ],
      "metadata": {
        "colab": {
          "base_uri": "https://localhost:8080/"
        },
        "id": "tH7n1JPBR1kX",
        "outputId": "f756600b-6944-4d67-e525-da893e1c5dd8"
      },
      "execution_count": 77,
      "outputs": [
        {
          "output_type": "stream",
          "name": "stdout",
          "text": [
            "('oracle', 'sql', 'mongodb', 'aws')\n"
          ]
        }
      ]
    },
    {
      "cell_type": "code",
      "source": [
        "friend1 = (\"alex\",20,False)\n",
        "#assign a tuple to friend1\n",
        "friend2 = (\"bob\",22,True)\n",
        "#assign another tuple to friend2\n",
        "friend3 = (\"carl\",19,False)\n",
        "#assign another tuple to friend3\n",
        "print(friend1,friend2,friend3)\n",
        "#print all three tuples"
      ],
      "metadata": {
        "colab": {
          "base_uri": "https://localhost:8080/"
        },
        "id": "kphUJ1HsR1nI",
        "outputId": "b13973cb-e895-4120-9991-eb374401f0a4"
      },
      "execution_count": 78,
      "outputs": [
        {
          "output_type": "stream",
          "name": "stdout",
          "text": [
            "('alex', 20, False) ('bob', 22, True) ('carl', 19, False)\n"
          ]
        }
      ]
    },
    {
      "cell_type": "code",
      "source": [
        "friend2 = (\"erica\",) + friend2[1:]\n",
        "#change Bob from friend 2 to Erica and add the other elements of tuple from index 1\n",
        "print(friend2)"
      ],
      "metadata": {
        "colab": {
          "base_uri": "https://localhost:8080/"
        },
        "id": "TnMxSxbAR1sl",
        "outputId": "5ac70cbd-8eab-455e-d27e-39d4054c4830"
      },
      "execution_count": 79,
      "outputs": [
        {
          "output_type": "stream",
          "name": "stdout",
          "text": [
            "('erica', 22, True)\n"
          ]
        }
      ]
    },
    {
      "cell_type": "markdown",
      "source": [
        "**tuple Functions**"
      ],
      "metadata": {
        "id": "nidmWyEUSDwv"
      }
    },
    {
      "cell_type": "code",
      "source": [
        "my_desk = (\"mouse\",\"pad\",\"monitor\")\n",
        "#Assign a tuple\n",
        "print(my_desk.count(\"mouse\"))\n",
        "#Print how many times mouse is present in the tuple\n",
        "\n",
        "new_tuple = (\"a\",\"b\",\"b\",\"c\",\"c\")\n",
        "#Assign a new tuple\n",
        "print(new_tuple) # it's ordered\n",
        "#print the new tuple\n",
        "\n",
        "tuple2 = new_tuple + (\"d\",)\n",
        "#Add d to the new tuple\n",
        "print(tuple2)\n",
        "#Print the new tuple\n",
        "tuple3 = tuple2 + (\"e\",\"f\")\n",
        "#Assign another tuple with element of tuple2 and e and f\n",
        "print(tuple3)\n",
        "#print the tuple3\n",
        "tuple4 = list(tuple3)\n",
        "#change tuple3 to list\n",
        "print(tuple4)\n",
        "#print the list"
      ],
      "metadata": {
        "colab": {
          "base_uri": "https://localhost:8080/"
        },
        "id": "y1otbkWlSGRO",
        "outputId": "1e8c0e0a-e9e2-4509-b022-b6f82bbe1e1b"
      },
      "execution_count": 80,
      "outputs": [
        {
          "output_type": "stream",
          "name": "stdout",
          "text": [
            "1\n",
            "('a', 'b', 'b', 'c', 'c')\n",
            "('a', 'b', 'b', 'c', 'c', 'd')\n",
            "('a', 'b', 'b', 'c', 'c', 'd', 'e', 'f')\n",
            "['a', 'b', 'b', 'c', 'c', 'd', 'e', 'f']\n"
          ]
        }
      ]
    },
    {
      "cell_type": "code",
      "source": [
        "print(my_desk.index(\"mouse\"))\n",
        "#print the index of mouse in tuple my_desk"
      ],
      "metadata": {
        "colab": {
          "base_uri": "https://localhost:8080/"
        },
        "id": "HCZ7CjNPSGUB",
        "outputId": "a2b812ae-9a8d-4155-facd-6e75ab758491"
      },
      "execution_count": 81,
      "outputs": [
        {
          "output_type": "stream",
          "name": "stdout",
          "text": [
            "0\n"
          ]
        }
      ]
    },
    {
      "cell_type": "code",
      "source": [
        "stack = []\n",
        "#Initialize stack\n",
        "dir(stack)\n",
        "#Show directory of stack"
      ],
      "metadata": {
        "id": "B4VCKf21SGW6"
      },
      "execution_count": null,
      "outputs": []
    },
    {
      "cell_type": "markdown",
      "source": [
        "SETS"
      ],
      "metadata": {
        "id": "A6-LLjRNSXMQ"
      }
    },
    {
      "cell_type": "code",
      "source": [
        "days = {\"a\",\"b\",\"c\",\"d\"}\n",
        "#Assign a set to days\n",
        "type(days)\n",
        "#print the type of days"
      ],
      "metadata": {
        "colab": {
          "base_uri": "https://localhost:8080/"
        },
        "id": "lkHuyZZSSGZY",
        "outputId": "31be695a-2d10-4c9d-f74b-ac2698ecebe5"
      },
      "execution_count": 83,
      "outputs": [
        {
          "output_type": "execute_result",
          "data": {
            "text/plain": [
              "set"
            ]
          },
          "metadata": {},
          "execution_count": 83
        }
      ]
    },
    {
      "cell_type": "code",
      "source": [
        "print(days)\n",
        "#print the set days"
      ],
      "metadata": {
        "colab": {
          "base_uri": "https://localhost:8080/"
        },
        "id": "_8sggkH7SGdQ",
        "outputId": "515cddb9-f5aa-4e3b-9bfa-0e8718bd859c"
      },
      "execution_count": 85,
      "outputs": [
        {
          "output_type": "stream",
          "name": "stdout",
          "text": [
            "{'b', 'd', 'a', 'c'}\n"
          ]
        }
      ]
    },
    {
      "cell_type": "code",
      "source": [
        "car = {\"a\",\"b\",\"c\"}\n",
        "#Assign a set to car\n",
        "type(car)\n",
        "#Give type of set car"
      ],
      "metadata": {
        "colab": {
          "base_uri": "https://localhost:8080/"
        },
        "id": "DZtzMuoASgVO",
        "outputId": "0e71f00a-90f4-41df-c51f-eabf52a048da"
      },
      "execution_count": 84,
      "outputs": [
        {
          "output_type": "execute_result",
          "data": {
            "text/plain": [
              "set"
            ]
          },
          "metadata": {},
          "execution_count": 84
        }
      ]
    },
    {
      "cell_type": "code",
      "source": [
        "dir(car)\n",
        "#open directory of set car"
      ],
      "metadata": {
        "id": "zQ91J7QjSgYb"
      },
      "execution_count": null,
      "outputs": []
    },
    {
      "cell_type": "markdown",
      "source": [
        "UPDATING SETS"
      ],
      "metadata": {
        "id": "Yk9NZDX3Stbx"
      }
    },
    {
      "cell_type": "code",
      "source": [
        "cam = {\"a\",\"b\",\"c\"}\n",
        "#Assign a set to cam\n",
        "cam.add(\"d\")\n",
        "#add d to cam\n",
        "print(cam)\n",
        "#print the cam after changes"
      ],
      "metadata": {
        "colab": {
          "base_uri": "https://localhost:8080/"
        },
        "id": "elXL2WPcSge7",
        "outputId": "2843fdbf-7b9f-476b-b988-e46000f10b2b"
      },
      "execution_count": 86,
      "outputs": [
        {
          "output_type": "stream",
          "name": "stdout",
          "text": [
            "{'b', 'd', 'a', 'c'}\n"
          ]
        }
      ]
    },
    {
      "cell_type": "code",
      "source": [
        "set1 = set()\n",
        "#assign a set\n",
        "stack = list()\n",
        "#assign a list\n",
        "tuple1 = tuple()\n",
        "#assign a tuple"
      ],
      "metadata": {
        "id": "EtKSlAPUSxcw"
      },
      "execution_count": 87,
      "outputs": []
    },
    {
      "cell_type": "code",
      "source": [
        "set3 = {\"a\",\"b\",\"c\"}\n",
        "#assign a set named set3\n",
        "type(set3)\n",
        "#give type of set3"
      ],
      "metadata": {
        "id": "PqNzRQqkSxgc"
      },
      "execution_count": null,
      "outputs": []
    },
    {
      "cell_type": "markdown",
      "source": [
        "DICTIONARIES"
      ],
      "metadata": {
        "id": "RJ5iOKgGS3vi"
      }
    },
    {
      "cell_type": "code",
      "source": [
        "my_dog = {\n",
        "    \"dog\":\"3\",\n",
        "    \"cat\":\"1\",\n",
        "    \"lion\":1\n",
        "}\n",
        "#Dictionary assigned in key-value pairs\n",
        "print(my_dog)\n",
        "#print the dictionary"
      ],
      "metadata": {
        "colab": {
          "base_uri": "https://localhost:8080/"
        },
        "id": "qYALO1k_Sxit",
        "outputId": "1d74c0c8-3381-4c9d-8ba3-4e4d04b28d66"
      },
      "execution_count": 88,
      "outputs": [
        {
          "output_type": "stream",
          "name": "stdout",
          "text": [
            "{'dog': '3', 'cat': '1', 'lion': 1}\n"
          ]
        }
      ]
    },
    {
      "cell_type": "code",
      "source": [
        "type(my_dog)\n",
        "#Give type of the dictionary my_dog"
      ],
      "metadata": {
        "colab": {
          "base_uri": "https://localhost:8080/"
        },
        "id": "POod0F1fS917",
        "outputId": "50884c5a-4f9b-4ef0-c845-604576f81361"
      },
      "execution_count": 89,
      "outputs": [
        {
          "output_type": "execute_result",
          "data": {
            "text/plain": [
              "dict"
            ]
          },
          "metadata": {},
          "execution_count": 89
        }
      ]
    },
    {
      "cell_type": "code",
      "source": [
        "dir(my_dog)\n",
        "#Give directory of dictionary"
      ],
      "metadata": {
        "id": "QtyLDtlcS95n"
      },
      "execution_count": null,
      "outputs": []
    },
    {
      "cell_type": "code",
      "source": [
        "my_dog = {\n",
        "    \"dog\":\"3\",\n",
        "    \"cat\":\"1\",\n",
        "    \"lion\":1\n",
        "}\n",
        "#assign a dictionary my_dog\n",
        "print(my_dog[\"dog\"])\n",
        "#Print the value of dog in dictionary"
      ],
      "metadata": {
        "colab": {
          "base_uri": "https://localhost:8080/"
        },
        "id": "9ga4voinS-AP",
        "outputId": "d17245cf-1e85-4a3e-8f19-d539670b9752"
      },
      "execution_count": 90,
      "outputs": [
        {
          "output_type": "stream",
          "name": "stdout",
          "text": [
            "3\n"
          ]
        }
      ]
    },
    {
      "cell_type": "code",
      "source": [
        "print(my_dog.get(\"dog\"))\n",
        "#Print the value of dog in dictionary using get() function"
      ],
      "metadata": {
        "colab": {
          "base_uri": "https://localhost:8080/"
        },
        "id": "zZCa0rK2S-KE",
        "outputId": "2852c96a-42ce-466a-a66e-a223845bc8c4"
      },
      "execution_count": 91,
      "outputs": [
        {
          "output_type": "stream",
          "name": "stdout",
          "text": [
            "3\n"
          ]
        }
      ]
    },
    {
      "cell_type": "code",
      "source": [
        "print(my_dog.values())\n",
        "#print the values of dictionary my_dog"
      ],
      "metadata": {
        "colab": {
          "base_uri": "https://localhost:8080/"
        },
        "id": "daeS6I9sSxlK",
        "outputId": "3a7eb504-9e6d-4d72-f837-e9a3a4e8ce3f"
      },
      "execution_count": 92,
      "outputs": [
        {
          "output_type": "stream",
          "name": "stdout",
          "text": [
            "dict_values(['3', '1', 1])\n"
          ]
        }
      ]
    },
    {
      "cell_type": "code",
      "source": [
        "print(my_dog.keys())\n",
        "#print the keys of dictionary my_dog"
      ],
      "metadata": {
        "colab": {
          "base_uri": "https://localhost:8080/"
        },
        "id": "ACw0mYxlTQWN",
        "outputId": "242afe66-838f-44aa-c200-2f28101504fa"
      },
      "execution_count": 93,
      "outputs": [
        {
          "output_type": "stream",
          "name": "stdout",
          "text": [
            "dict_keys(['dog', 'cat', 'lion'])\n"
          ]
        }
      ]
    },
    {
      "cell_type": "code",
      "source": [
        "print(my_dog.items())\n",
        "##print the values and keys of dictionary my_dog"
      ],
      "metadata": {
        "colab": {
          "base_uri": "https://localhost:8080/"
        },
        "id": "zkBfCDgITQoW",
        "outputId": "911ca72b-0dc7-4e0b-8893-07e1015a5c2f"
      },
      "execution_count": 94,
      "outputs": [
        {
          "output_type": "stream",
          "name": "stdout",
          "text": [
            "dict_items([('dog', '3'), ('cat', '1'), ('lion', 1)])\n"
          ]
        }
      ]
    },
    {
      "cell_type": "code",
      "source": [
        "print(\"dog\" in my_dog)\n",
        "#if there is dog in my_dog then true else false"
      ],
      "metadata": {
        "colab": {
          "base_uri": "https://localhost:8080/"
        },
        "id": "qJ8nh2YqXlEm",
        "outputId": "f231af38-d3db-4c2a-e316-ea3094f259b1"
      },
      "execution_count": 95,
      "outputs": [
        {
          "output_type": "stream",
          "name": "stdout",
          "text": [
            "True\n"
          ]
        }
      ]
    },
    {
      "cell_type": "markdown",
      "source": [
        "Updating Dictionary Functions"
      ],
      "metadata": {
        "id": "nE3T8tB5XzBp"
      }
    },
    {
      "cell_type": "code",
      "source": [
        "my_dog.pop(\"cat\")\n",
        "#take out cat from the dictionary\n",
        "print(my_dog)\n",
        "#print the dictionary after taking out cat"
      ],
      "metadata": {
        "colab": {
          "base_uri": "https://localhost:8080/"
        },
        "id": "dUsZjTvpXlNY",
        "outputId": "8b55d2be-7d18-4794-8b07-ba996c99393b"
      },
      "execution_count": 96,
      "outputs": [
        {
          "output_type": "stream",
          "name": "stdout",
          "text": [
            "{'dog': '3', 'lion': 1}\n"
          ]
        }
      ]
    },
    {
      "cell_type": "code",
      "source": [
        "my_dog.popitem()\n",
        "#take out the last element of dictionary\n",
        "print(my_dog)\n",
        "#print the remaining dictionary"
      ],
      "metadata": {
        "colab": {
          "base_uri": "https://localhost:8080/"
        },
        "id": "AUhZEJKCX8bW",
        "outputId": "f2433d48-1621-4ffa-d7f3-74df9163585c"
      },
      "execution_count": 97,
      "outputs": [
        {
          "output_type": "stream",
          "name": "stdout",
          "text": [
            "{'dog': '3'}\n"
          ]
        }
      ]
    },
    {
      "cell_type": "markdown",
      "source": [
        "Nesting Dictionaries"
      ],
      "metadata": {
        "id": "hUn7ATsSYDb1"
      }
    },
    {
      "cell_type": "code",
      "source": [
        "family = {\n",
        "    \"child1\": {\n",
        "        \"name\":\"bob\",\n",
        "        \"age\":24\n",
        "    },\n",
        "    \"child2\": {\n",
        "        \"name\":\"carl\",\n",
        "        \"age\":29\n",
        "    }\n",
        "}\n",
        "#Assign a dictionary within a dictionary"
      ],
      "metadata": {
        "id": "U3EL4LMKX8iR"
      },
      "execution_count": null,
      "outputs": []
    },
    {
      "cell_type": "code",
      "source": [
        "print(family)\n",
        "#print the nested dictionary"
      ],
      "metadata": {
        "id": "6AQdFk7WYK1l"
      },
      "execution_count": null,
      "outputs": []
    },
    {
      "cell_type": "code",
      "source": [
        "# Append\n",
        "stack = []\n",
        "#initialize a stack\n",
        "stack.append(\"Bob\") # add to the end of the list\n",
        "stack.append(\"Carl\")\n",
        "#add carl\n",
        "print(stack)\n",
        "#print the stack\n",
        "stack.pop() # removes last element\n",
        "print(stack)\n",
        "#print stack\n",
        "stack.append(\"Leo\")\n",
        "#add leo at end of list\n",
        "print(stack)\n",
        "#print the stack\n",
        "# stack.pop\n",
        "stack.pop(0) # removes certain indexes values of a stack\n",
        "print(stack)\n",
        "#print the stack"
      ],
      "metadata": {
        "colab": {
          "base_uri": "https://localhost:8080/"
        },
        "id": "nBu_Hh52YK_F",
        "outputId": "c1cc60b3-c89e-4555-f806-6918ba22df5f"
      },
      "execution_count": 98,
      "outputs": [
        {
          "output_type": "stream",
          "name": "stdout",
          "text": [
            "['Bob', 'Carl']\n",
            "['Bob']\n",
            "['Bob', 'Leo']\n",
            "['Leo']\n"
          ]
        }
      ]
    },
    {
      "cell_type": "markdown",
      "source": [
        "**Assignment**"
      ],
      "metadata": {
        "id": "3HfSZqeCCl3f"
      }
    },
    {
      "cell_type": "code",
      "source": [
        "has_hammer = true\n",
        "if has_hammer:\n",
        "  print(\"Yes, he has a hammer in his cart!\")\n",
        "  else:\n",
        "    pass\n",
        "    print(\"He needs one hammer\")"
      ],
      "metadata": {
        "id": "3-QXBvK8CqIv"
      },
      "execution_count": null,
      "outputs": []
    },
    {
      "cell_type": "code",
      "source": [
        "test_list = [\"hammer\", \"screw\", \"board\", \"\", 46, 2808]"
      ],
      "metadata": {
        "id": "HJ5OnPjcCrMu"
      },
      "execution_count": null,
      "outputs": []
    },
    {
      "cell_type": "markdown",
      "source": [
        "# New Section"
      ],
      "metadata": {
        "id": "38AssEAcEK64"
      }
    }
  ]
}