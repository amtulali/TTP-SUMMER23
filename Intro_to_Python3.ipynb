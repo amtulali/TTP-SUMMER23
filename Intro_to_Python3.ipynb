{
  "nbformat": 4,
  "nbformat_minor": 0,
  "metadata": {
    "colab": {
      "provenance": [],
      "authorship_tag": "ABX9TyPln/IbffrkIpboric7dir3",
      "include_colab_link": true
    },
    "kernelspec": {
      "name": "python3",
      "display_name": "Python 3"
    },
    "language_info": {
      "name": "python"
    }
  },
  "cells": [
    {
      "cell_type": "markdown",
      "metadata": {
        "id": "view-in-github",
        "colab_type": "text"
      },
      "source": [
        "<a href=\"https://colab.research.google.com/github/amtulali/TTP-SUMMER23/blob/main/Intro_to_Python3.ipynb\" target=\"_parent\"><img src=\"https://colab.research.google.com/assets/colab-badge.svg\" alt=\"Open In Colab\"/></a>"
      ]
    },
    {
      "cell_type": "markdown",
      "source": [
        "CONDITIONALS"
      ],
      "metadata": {
        "id": "AOqO4z6EY_fR"
      }
    },
    {
      "cell_type": "markdown",
      "source": [
        "The IF Statement"
      ],
      "metadata": {
        "id": "4AXr8F3SZCD5"
      }
    },
    {
      "cell_type": "code",
      "source": [
        "night = False\n",
        "#Boolean statement"
      ],
      "metadata": {
        "id": "76o-xGosZNLb"
      },
      "execution_count": 2,
      "outputs": []
    },
    {
      "cell_type": "code",
      "source": [
        "type(night)\n",
        "#Give the type of night"
      ],
      "metadata": {
        "colab": {
          "base_uri": "https://localhost:8080/"
        },
        "id": "whyzgLZ2ZNON",
        "outputId": "3211cb29-4f31-4efb-9a45-2f28270db0ed"
      },
      "execution_count": 3,
      "outputs": [
        {
          "output_type": "execute_result",
          "data": {
            "text/plain": [
              "bool"
            ]
          },
          "metadata": {},
          "execution_count": 3
        }
      ]
    },
    {
      "cell_type": "code",
      "source": [
        "# if (something) -> then do something... if not -> then do something else."
      ],
      "metadata": {
        "id": "c0rUnrw-ZNRW"
      },
      "execution_count": null,
      "outputs": []
    },
    {
      "cell_type": "code",
      "source": [
        "if night: # == True:\n",
        "    print(\"It's night. Sleeping\") #print the msg\n",
        "else:\n",
        "    print(\"It's day. Being active.\")\n",
        "#else print \"Its day, Being active\"\n",
        "\n",
        "print(\"Out of the if statement\")\n",
        "#print out of the if statement"
      ],
      "metadata": {
        "id": "wCm6W3XIZYox"
      },
      "execution_count": null,
      "outputs": []
    },
    {
      "cell_type": "code",
      "source": [
        "a, b, c = 100, 50, 20\n",
        "#Assign a to 100, b to 50, c to 20\n",
        "if a > b and b > c:\n",
        "    print(f\"{a} greater than {c}\")\n",
        "#If a is greater than b and b is greater than c then print \"{a-value} greater than {c-value}\""
      ],
      "metadata": {
        "colab": {
          "base_uri": "https://localhost:8080/"
        },
        "id": "xqBKd_JRZYr0",
        "outputId": "a03a280d-e3c2-44ab-a4b0-0bf9993d4ddd"
      },
      "execution_count": 4,
      "outputs": [
        {
          "output_type": "stream",
          "name": "stdout",
          "text": [
            "100 greater than 20\n"
          ]
        }
      ]
    },
    {
      "cell_type": "code",
      "source": [
        "data = input(\"Do you have the keys? (yes/no)\")\n",
        "#Ask for input\n",
        "if data.lower() == \"yes\": #If yes, change into lower case input yes\n",
        "    print(\"Starting the car\") #print the msg\n",
        "else:\n",
        "    print(\"Car cannot start without the keys\")  #else print other msg."
      ],
      "metadata": {
        "id": "m_EqVDaIZYvL"
      },
      "execution_count": null,
      "outputs": []
    },
    {
      "cell_type": "code",
      "source": [
        "data = input(\"Please enter the current hour (0-23): \")\n",
        "#take input\n",
        "hour = int(data)\n",
        "#change the input into integer\n",
        "if hour < 12:   #if hour less than 12 print msg\n",
        "    print(f\"It's {hour} am\")\n",
        "else:\n",
        "    print(f\"It's {hour-12} pm\")"
      ],
      "metadata": {
        "id": "-ZbWgy6QZYyX"
      },
      "execution_count": null,
      "outputs": []
    },
    {
      "cell_type": "markdown",
      "source": [
        "NESTED IF STATEMENTS"
      ],
      "metadata": {
        "id": "UATW5l8eZuJn"
      }
    },
    {
      "cell_type": "code",
      "source": [
        "pet_store = ['cat', 'dog', 'rabbit']\n",
        "#Inittialize a list\n",
        "has_cat_food = True\n",
        "#Boolean statement\n",
        "if 'cat' in pet_store:#if cat in list then print\n",
        "    print(\"Alright! they have a cat for me\")\n",
        "\n",
        "    if has_cat_food:#if true\n",
        "        print('Buying cat and cat food')\n",
        "\n",
        "    else:\n",
        "        print('Buying the cat only')\n",
        "        # more code inside the else block\n",
        "    # more code\n",
        "\n",
        "else:\n",
        "    print('Ask pet store to get cat')"
      ],
      "metadata": {
        "id": "8itRk5fiZY4Y"
      },
      "execution_count": null,
      "outputs": []
    },
    {
      "cell_type": "markdown",
      "source": [
        "MORE ON INDENTATION"
      ],
      "metadata": {
        "id": "o0kugdDbZ2cc"
      }
    },
    {
      "cell_type": "code",
      "source": [
        "if True:\n",
        "    print(\"This is part of the if statement\")\n",
        "print(\"The if statement has finished\")\n",
        "    # print(\"Not allowed\")"
      ],
      "metadata": {
        "id": "qb6dVIvxZNTp"
      },
      "execution_count": null,
      "outputs": []
    },
    {
      "cell_type": "code",
      "source": [
        "if 5 > 3: #if five greater than 3 then print\n",
        "    print(\"This is part of expression 1\")\n",
        "\n",
        "    if 10 > 5: #if ten greater than five\n",
        "        print(\"This is part of expression2\")\n",
        "\n",
        "    print(\"This is also part of expression 1\")\n",
        "\n",
        "print(\"This is not part of any if statement\")\n",
        "    # print(\"This is not allowed\")"
      ],
      "metadata": {
        "colab": {
          "base_uri": "https://localhost:8080/"
        },
        "id": "0kMJV9IQZ5si",
        "outputId": "a9cc60ed-276d-4547-e39a-5cb5b59c0901"
      },
      "execution_count": 5,
      "outputs": [
        {
          "output_type": "stream",
          "name": "stdout",
          "text": [
            "This is part of expression 1\n",
            "This is part of expression2\n",
            "This is also part of expression 1\n",
            "This is not part of any if statement\n"
          ]
        }
      ]
    },
    {
      "cell_type": "markdown",
      "source": [
        "THE IF ELSE STATEMENT"
      ],
      "metadata": {
        "id": "8rsTj2iSaBVf"
      }
    },
    {
      "cell_type": "code",
      "source": [
        "age = int(input(\"Please enter your age: \"))\n",
        "#Take input\n",
        "if age < 18:#if age less than 18 print\n",
        "    print(\"You are a minor\")\n",
        "elif age < 21:#else if age less than 21 print\n",
        "    print(\"You are an adult but cannot drink alcohol\")\n",
        "elif age < 35:#else if age less than 35 print\n",
        "    print(\"You are younger than 35\")\n",
        "else:\n",
        "    print(\"You are an adult\")\n",
        "\n",
        "print(\"If statement finished\")"
      ],
      "metadata": {
        "id": "kzrqtNSUZ5vN"
      },
      "execution_count": null,
      "outputs": []
    },
    {
      "cell_type": "markdown",
      "source": [
        "SHORTHAND IF STATEMENT"
      ],
      "metadata": {
        "id": "6WgfcWB5aJ5W"
      }
    },
    {
      "cell_type": "code",
      "source": [
        "a, b = 50, 20\n",
        "#a is assigned 50, b is assigned 20"
      ],
      "metadata": {
        "id": "enmACfynZ503"
      },
      "execution_count": 7,
      "outputs": []
    },
    {
      "cell_type": "code",
      "source": [
        "if a > b: print(\"a > b\")\n",
        "#if a is greater than b, print a>b"
      ],
      "metadata": {
        "colab": {
          "base_uri": "https://localhost:8080/"
        },
        "id": "wpc8J_FMaMfh",
        "outputId": "384d9259-2276-4481-8825-581be7ec83ca"
      },
      "execution_count": 8,
      "outputs": [
        {
          "output_type": "stream",
          "name": "stdout",
          "text": [
            "a > b\n"
          ]
        }
      ]
    },
    {
      "cell_type": "code",
      "source": [
        "print(\"a > b\") if a > b else print(\"b > a\")\n",
        "#if a is greater than b, then print a>b, else print b>a"
      ],
      "metadata": {
        "colab": {
          "base_uri": "https://localhost:8080/"
        },
        "id": "r3FJhpyYaMiE",
        "outputId": "5b0a7f59-f4bf-4628-b5bf-8e159c268023"
      },
      "execution_count": 9,
      "outputs": [
        {
          "output_type": "stream",
          "name": "stdout",
          "text": [
            "a > b\n"
          ]
        }
      ]
    },
    {
      "cell_type": "code",
      "source": [
        "max = a if a > b else b\n",
        "#If a is greater than b than max is a else it is b\n",
        "print(max)\n",
        "#print the max"
      ],
      "metadata": {
        "colab": {
          "base_uri": "https://localhost:8080/"
        },
        "id": "yrnB-KbsaMkr",
        "outputId": "0e484c87-f895-43ab-83ca-72ce9ad5d8f3"
      },
      "execution_count": 10,
      "outputs": [
        {
          "output_type": "stream",
          "name": "stdout",
          "text": [
            "50\n"
          ]
        }
      ]
    },
    {
      "cell_type": "markdown",
      "source": [
        "The Pass Keyword"
      ],
      "metadata": {
        "id": "tiZGpo6-aeZk"
      }
    },
    {
      "cell_type": "code",
      "source": [
        "has_cat = False\n",
        "#boolean expression\n",
        "if has_cat: # This means --> if has_cat == True\n",
        "    pass\n",
        "else:\n",
        "    print(\"You should get a cat\")"
      ],
      "metadata": {
        "colab": {
          "base_uri": "https://localhost:8080/"
        },
        "id": "H37KG9hRagyS",
        "outputId": "bbecc40b-c560-4d50-94a1-221cabb94276"
      },
      "execution_count": 11,
      "outputs": [
        {
          "output_type": "stream",
          "name": "stdout",
          "text": [
            "You should get a cat\n"
          ]
        }
      ]
    },
    {
      "cell_type": "code",
      "source": [
        "has_dog = False\n",
        "#Boolean expression\n",
        "if has_dog:\n",
        "    print(\"Awesome!\")\n",
        "else:\n",
        "    pass\n",
        "    print(\"You should get one\")"
      ],
      "metadata": {
        "colab": {
          "base_uri": "https://localhost:8080/"
        },
        "id": "avgJec2jag1a",
        "outputId": "b156d627-b8a1-4dfc-aef0-6659c5d36662"
      },
      "execution_count": 12,
      "outputs": [
        {
          "output_type": "stream",
          "name": "stdout",
          "text": [
            "You should get one\n"
          ]
        }
      ]
    },
    {
      "cell_type": "markdown",
      "source": [
        "Practice"
      ],
      "metadata": {
        "id": "KqjTBJRCauH4"
      }
    },
    {
      "cell_type": "code",
      "source": [
        "import random\n",
        "#Import random choice data"
      ],
      "metadata": {
        "id": "47NMt4P5ahC4"
      },
      "execution_count": 13,
      "outputs": []
    },
    {
      "cell_type": "code",
      "source": [
        "nb = random.randint(0, 100)\n",
        "#random numbers 0-99\n",
        "print(f\"Number {nb} is even\") if nb % 2 == 0 else print(f\"Number {nb} is odd\")\n",
        "#if number has a remainder of 0 when divided by 2 then it is even else it is odd"
      ],
      "metadata": {
        "colab": {
          "base_uri": "https://localhost:8080/"
        },
        "id": "rQO7AS6GaMnC",
        "outputId": "fb1f9700-3504-4d43-cd25-d9e66b9fe392"
      },
      "execution_count": 14,
      "outputs": [
        {
          "output_type": "stream",
          "name": "stdout",
          "text": [
            "Number 69 is odd\n"
          ]
        }
      ]
    },
    {
      "cell_type": "code",
      "source": [
        "numb = int(input('Please enter a number from 0-100: '))\n",
        "#Take input of a number range from 0-100\n",
        "print(f\"Number {numb} is even\") if numb % 2 == 0 else print(f\"Number {numb} is odd\")\n",
        "#Print the number is even if remainder after division is 0, else it is odd"
      ],
      "metadata": {
        "colab": {
          "base_uri": "https://localhost:8080/"
        },
        "id": "C7eXAHXCazQg",
        "outputId": "8b2346fd-43e2-470b-d1f6-42d05f1969ab"
      },
      "execution_count": 15,
      "outputs": [
        {
          "output_type": "stream",
          "name": "stdout",
          "text": [
            "Please enter a number from 0-100: 4\n",
            "Number 4 is even\n"
          ]
        }
      ]
    },
    {
      "cell_type": "markdown",
      "source": [
        "Loops"
      ],
      "metadata": {
        "id": "h8mh6PEda2o5"
      }
    },
    {
      "cell_type": "markdown",
      "source": [
        "FOR LOOP"
      ],
      "metadata": {
        "id": "1Vjawe0aa8M2"
      }
    },
    {
      "cell_type": "code",
      "source": [
        "animals = ['cat', 'dog', 'horse']\n",
        "#initialize a list\n",
        "for animal in animals:#for each animal in the list animal print the following\n",
        "    print(f\"There is a {animal}\")"
      ],
      "metadata": {
        "colab": {
          "base_uri": "https://localhost:8080/"
        },
        "id": "k9QYUiGgazTb",
        "outputId": "de2eadbe-7cbb-4aa9-f409-24b31a68c715"
      },
      "execution_count": 16,
      "outputs": [
        {
          "output_type": "stream",
          "name": "stdout",
          "text": [
            "There is a cat\n",
            "There is a dog\n",
            "There is a horse\n"
          ]
        }
      ]
    },
    {
      "cell_type": "code",
      "source": [
        "for letter in 'pineapple':#for each letter in pineapple\n",
        "    print(letter.upper())\n",
        "    #print uppercase"
      ],
      "metadata": {
        "colab": {
          "base_uri": "https://localhost:8080/"
        },
        "id": "qfkqdc4Na-lv",
        "outputId": "2f562f60-2b48-414a-ca74-c58c73fa2ce1"
      },
      "execution_count": 17,
      "outputs": [
        {
          "output_type": "stream",
          "name": "stdout",
          "text": [
            "P\n",
            "I\n",
            "N\n",
            "E\n",
            "A\n",
            "P\n",
            "P\n",
            "L\n",
            "E\n"
          ]
        }
      ]
    },
    {
      "cell_type": "code",
      "source": [
        "for number in range(0, 20, 2):#for each number in the range (start from 0, end at 20, count by 2)\n",
        "    print(f\"{number} is an even number\")#print the even numbers"
      ],
      "metadata": {
        "colab": {
          "base_uri": "https://localhost:8080/"
        },
        "id": "cC5RgSfoa-oL",
        "outputId": "ac1b715f-8d27-4b24-a6af-c925eaf4f7ca"
      },
      "execution_count": 18,
      "outputs": [
        {
          "output_type": "stream",
          "name": "stdout",
          "text": [
            "0 is an even number\n",
            "2 is an even number\n",
            "4 is an even number\n",
            "6 is an even number\n",
            "8 is an even number\n",
            "10 is an even number\n",
            "12 is an even number\n",
            "14 is an even number\n",
            "16 is an even number\n",
            "18 is an even number\n"
          ]
        }
      ]
    },
    {
      "cell_type": "markdown",
      "source": [
        "BREAK AND CONTINUE"
      ],
      "metadata": {
        "id": "oitHkKmZbIAy"
      }
    },
    {
      "cell_type": "code",
      "source": [
        "for number in range(0, 20, 2):#for number is the range(start from 0, end at 20, count by 2)\n",
        "    print(f\"{number} is an even number\")#orint the even numbers\n",
        "    if number == 10:#if number is equal to 10\n",
        "        print(\"On ho! Not 10\")#print the msg and break\n",
        "        break\n",
        "print(\"Next steps in out code\")"
      ],
      "metadata": {
        "colab": {
          "base_uri": "https://localhost:8080/"
        },
        "id": "AM0zDVjMa-qp",
        "outputId": "97fff429-2ce1-461f-dfd6-87423646aa19"
      },
      "execution_count": 19,
      "outputs": [
        {
          "output_type": "stream",
          "name": "stdout",
          "text": [
            "0 is an even number\n",
            "2 is an even number\n",
            "4 is an even number\n",
            "6 is an even number\n",
            "8 is an even number\n",
            "10 is an even number\n",
            "On ho! Not 10\n",
            "Next steps in out code\n"
          ]
        }
      ]
    },
    {
      "cell_type": "code",
      "source": [
        "for number in range(0, 20, 2):#(start from 0, end at 20, count by 2)\n",
        "    if number == 10:#If number is 10 then print\n",
        "        print(\"We are not executing 10\")\n",
        "        continue#and then continue\n",
        "    print(f\"{number} is an even number\")"
      ],
      "metadata": {
        "colab": {
          "base_uri": "https://localhost:8080/"
        },
        "id": "V_onFc1sa-sh",
        "outputId": "4c399dc2-256d-42bc-c558-e66c7cefcca9"
      },
      "execution_count": 20,
      "outputs": [
        {
          "output_type": "stream",
          "name": "stdout",
          "text": [
            "0 is an even number\n",
            "2 is an even number\n",
            "4 is an even number\n",
            "6 is an even number\n",
            "8 is an even number\n",
            "We are not executing 10\n",
            "12 is an even number\n",
            "14 is an even number\n",
            "16 is an even number\n",
            "18 is an even number\n"
          ]
        }
      ]
    },
    {
      "cell_type": "markdown",
      "source": [
        "PRACTICE"
      ],
      "metadata": {
        "id": "h3WdT-irbSKc"
      }
    },
    {
      "cell_type": "code",
      "source": [
        "for i in range(0, 10):#10 times print the msg\n",
        "    print(\"Hello for loop\")\n"
      ],
      "metadata": {
        "colab": {
          "base_uri": "https://localhost:8080/"
        },
        "id": "YESlBtVhbOb7",
        "outputId": "2d06fc76-45ee-4193-f437-e5c6ee6cc746"
      },
      "execution_count": 21,
      "outputs": [
        {
          "output_type": "stream",
          "name": "stdout",
          "text": [
            "Hello for loop\n",
            "Hello for loop\n",
            "Hello for loop\n",
            "Hello for loop\n",
            "Hello for loop\n",
            "Hello for loop\n",
            "Hello for loop\n",
            "Hello for loop\n",
            "Hello for loop\n",
            "Hello for loop\n"
          ]
        }
      ]
    },
    {
      "cell_type": "code",
      "source": [
        "sum = 0\n",
        "#assign 0 to sum\n",
        "for number in range(0, 101):#range of numbers from 0 t0 101\n",
        "    if number % 10 == 0:#if remainder is 0 after dividing by 10 then continue\n",
        "        continue\n",
        "\n",
        "    sum += number#add the numbers, then print the sum\n",
        "print(f\"The sum is {sum}\")"
      ],
      "metadata": {
        "colab": {
          "base_uri": "https://localhost:8080/"
        },
        "id": "oTQn0ONsbOed",
        "outputId": "97c450f6-3043-48c6-c21d-baaf386fa37f"
      },
      "execution_count": 26,
      "outputs": [
        {
          "output_type": "stream",
          "name": "stdout",
          "text": [
            "The sum is 4500\n"
          ]
        }
      ]
    },
    {
      "cell_type": "code",
      "source": [
        "customers = {\n",
        "    'Alice': 4,\n",
        "    'Judy': 8,\n",
        "    'Anna': 6\n",
        "}\n",
        "#Dictionary\n",
        "for customer in customers:\n",
        "    print(\"{} has made {} purchases\".format(customer, customers[customer]))\n",
        "    #print each customers purchase using format() function"
      ],
      "metadata": {
        "colab": {
          "base_uri": "https://localhost:8080/"
        },
        "id": "Fns6O6PBbOhW",
        "outputId": "c2ab9238-2417-4239-a0f4-1c01a817e872"
      },
      "execution_count": 27,
      "outputs": [
        {
          "output_type": "stream",
          "name": "stdout",
          "text": [
            "Alice has made 4 purchases\n",
            "Judy has made 8 purchases\n",
            "Anna has made 6 purchases\n"
          ]
        }
      ]
    },
    {
      "cell_type": "markdown",
      "source": [
        "USING ELSE WITH FOR LOOPS"
      ],
      "metadata": {
        "id": "2XkxQjAAbfzE"
      }
    },
    {
      "cell_type": "code",
      "source": [
        "numbers1 = [1, 5, 9, 5, 7, 3]\n",
        "numbers2 = [2, 8, 6, 2, 4, 10]\n",
        "#initalizing two lists\n",
        "for number in numbers2:#for numbers in the list numbers2\n",
        "    if number % 2 == 0:#if mod 2 is 0 print\n",
        "        print(\"List contains at least 1 even number\")\n",
        "        break\n",
        "else:\n",
        "    print(\"The list does not contain any even numbers\")\n"
      ],
      "metadata": {
        "colab": {
          "base_uri": "https://localhost:8080/"
        },
        "id": "x9Zcw0CNbbo5",
        "outputId": "3267a0db-54c0-4b49-a7a9-4497ee88048f"
      },
      "execution_count": 28,
      "outputs": [
        {
          "output_type": "stream",
          "name": "stdout",
          "text": [
            "List contains at least 1 even number\n"
          ]
        }
      ]
    },
    {
      "cell_type": "markdown",
      "source": [
        "NESTED LOOP"
      ],
      "metadata": {
        "id": "-ACAZGrebmLk"
      }
    },
    {
      "cell_type": "code",
      "source": [
        "for x in range(6):#for all x values 0-6\n",
        "    for y in range(6):#for all y values 0-6\n",
        "        print(f\"{x} * {y} = {x * y}\")"
      ],
      "metadata": {
        "colab": {
          "base_uri": "https://localhost:8080/"
        },
        "id": "4-ngZwdhbbrn",
        "outputId": "6de54d10-e1d3-4057-c317-b0b54f8b7e24"
      },
      "execution_count": 29,
      "outputs": [
        {
          "output_type": "stream",
          "name": "stdout",
          "text": [
            "0 * 0 = 0\n",
            "0 * 1 = 0\n",
            "0 * 2 = 0\n",
            "0 * 3 = 0\n",
            "0 * 4 = 0\n",
            "0 * 5 = 0\n",
            "1 * 0 = 0\n",
            "1 * 1 = 1\n",
            "1 * 2 = 2\n",
            "1 * 3 = 3\n",
            "1 * 4 = 4\n",
            "1 * 5 = 5\n",
            "2 * 0 = 0\n",
            "2 * 1 = 2\n",
            "2 * 2 = 4\n",
            "2 * 3 = 6\n",
            "2 * 4 = 8\n",
            "2 * 5 = 10\n",
            "3 * 0 = 0\n",
            "3 * 1 = 3\n",
            "3 * 2 = 6\n",
            "3 * 3 = 9\n",
            "3 * 4 = 12\n",
            "3 * 5 = 15\n",
            "4 * 0 = 0\n",
            "4 * 1 = 4\n",
            "4 * 2 = 8\n",
            "4 * 3 = 12\n",
            "4 * 4 = 16\n",
            "4 * 5 = 20\n",
            "5 * 0 = 0\n",
            "5 * 1 = 5\n",
            "5 * 2 = 10\n",
            "5 * 3 = 15\n",
            "5 * 4 = 20\n",
            "5 * 5 = 25\n"
          ]
        }
      ]
    },
    {
      "cell_type": "code",
      "source": [
        "size = 5\n",
        "#Assign 5 to size\n",
        "for x in range(size):#for x in range 0-5\n",
        "    for y in range(size):#y in range 0-5\n",
        "        print(f\"{x},{y}\\t\\t\", end='')\n",
        "    print()"
      ],
      "metadata": {
        "colab": {
          "base_uri": "https://localhost:8080/"
        },
        "id": "ffODCigGbbus",
        "outputId": "9a0d0639-7bca-4407-cee5-59451952767b"
      },
      "execution_count": 30,
      "outputs": [
        {
          "output_type": "stream",
          "name": "stdout",
          "text": [
            "0,0\t\t0,1\t\t0,2\t\t0,3\t\t0,4\t\t\n",
            "1,0\t\t1,1\t\t1,2\t\t1,3\t\t1,4\t\t\n",
            "2,0\t\t2,1\t\t2,2\t\t2,3\t\t2,4\t\t\n",
            "3,0\t\t3,1\t\t3,2\t\t3,3\t\t3,4\t\t\n",
            "4,0\t\t4,1\t\t4,2\t\t4,3\t\t4,4\t\t\n"
          ]
        }
      ]
    },
    {
      "cell_type": "code",
      "source": [
        "for x in range(size):#for x in range 0-5\n",
        "    for y in range(size):#for y in range 0-5\n",
        "        if (x + y) % 2:\n",
        "            print(\"\\U0001F600\\t\", end='')\n",
        "        else:\n",
        "            print(\"\\U0001F60D\\t\", end='')\n",
        "    print()\n"
      ],
      "metadata": {
        "colab": {
          "base_uri": "https://localhost:8080/"
        },
        "id": "XXUDhvMmbbxd",
        "outputId": "e84bd4bf-fcf9-40c7-d1f8-8df7e7f1bc99"
      },
      "execution_count": 31,
      "outputs": [
        {
          "output_type": "stream",
          "name": "stdout",
          "text": [
            "😍\t😀\t😍\t😀\t😍\t\n",
            "😀\t😍\t😀\t😍\t😀\t\n",
            "😍\t😀\t😍\t😀\t😍\t\n",
            "😀\t😍\t😀\t😍\t😀\t\n",
            "😍\t😀\t😍\t😀\t😍\t\n"
          ]
        }
      ]
    },
    {
      "cell_type": "markdown",
      "source": [
        "THE WHILE LOOP"
      ],
      "metadata": {
        "id": "m1mFNtvSbxnN"
      }
    },
    {
      "cell_type": "code",
      "source": [
        "i = 0\n",
        "#i is initialized to 0\n",
        "while i < 6:#while i is less than 6 print 1\n",
        "    print(i)\n",
        "    i += 1#go to next number"
      ],
      "metadata": {
        "colab": {
          "base_uri": "https://localhost:8080/"
        },
        "id": "XgUQdQn2bzDL",
        "outputId": "8e215778-2c5c-4725-e847-8df415929e9a"
      },
      "execution_count": 32,
      "outputs": [
        {
          "output_type": "stream",
          "name": "stdout",
          "text": [
            "0\n",
            "1\n",
            "2\n",
            "3\n",
            "4\n",
            "5\n"
          ]
        }
      ]
    },
    {
      "cell_type": "code",
      "source": [
        "puzzle_pieces = 20\n",
        "pieces_placed = 0\n",
        "\n",
        "while pieces_placed < puzzle_pieces:\n",
        "    pieces_placed += 1#add one for next interation\n",
        "    print(f\"Piece {pieces_placed} placed\")#print the message 20 times\n"
      ],
      "metadata": {
        "colab": {
          "base_uri": "https://localhost:8080/"
        },
        "id": "MY4W6TGEbzGA",
        "outputId": "9beda8f9-6d92-4b8f-bfb1-3c8dad8d58f8"
      },
      "execution_count": 39,
      "outputs": [
        {
          "output_type": "stream",
          "name": "stdout",
          "text": [
            "Piece 1 placed\n",
            "Piece 2 placed\n",
            "Piece 3 placed\n",
            "Piece 4 placed\n",
            "Piece 5 placed\n",
            "Piece 6 placed\n",
            "Piece 7 placed\n",
            "Piece 8 placed\n",
            "Piece 9 placed\n",
            "Piece 10 placed\n",
            "Piece 11 placed\n",
            "Piece 12 placed\n",
            "Piece 13 placed\n",
            "Piece 14 placed\n",
            "Piece 15 placed\n",
            "Piece 16 placed\n",
            "Piece 17 placed\n",
            "Piece 18 placed\n",
            "Piece 19 placed\n",
            "Piece 20 placed\n"
          ]
        }
      ]
    },
    {
      "cell_type": "markdown",
      "source": [
        "USING ELSE WITH WHILE LOOPS"
      ],
      "metadata": {
        "id": "5-6A1cC-b7T0"
      }
    },
    {
      "cell_type": "code",
      "source": [
        "i = 1\n",
        "#initalize i to 1\n",
        "while i < 10:#while i is less than 10\n",
        "    i += 3# i + 3 on each interation\n",
        "    if i % 2 == 0:#if mod 2 is 0 print the following message and break\n",
        "        print(\"Sequence contains an even number\")\n",
        "        break\n",
        "else:\n",
        "    print(\"Sequence does not contain an even number\")"
      ],
      "metadata": {
        "colab": {
          "base_uri": "https://localhost:8080/"
        },
        "id": "QA0CGMf0b25u",
        "outputId": "6ab50c37-8111-4fa0-94aa-5ec7ff6d36b8"
      },
      "execution_count": 38,
      "outputs": [
        {
          "output_type": "stream",
          "name": "stdout",
          "text": [
            "Sequence contains an even number\n"
          ]
        }
      ]
    },
    {
      "cell_type": "markdown",
      "source": [
        "A BIT OF PRACTICE"
      ],
      "metadata": {
        "id": "Uw_AzqxAcFgK"
      }
    },
    {
      "cell_type": "code",
      "source": [
        "i = 0\n",
        "#initialize i to 0\n",
        "while i < 10:#while i is less than 10\n",
        "    i += 1#increase i to one\n",
        "    print(f\"{i}. Hello while loop\")#print this message ten times"
      ],
      "metadata": {
        "colab": {
          "base_uri": "https://localhost:8080/"
        },
        "id": "LdZihQWEb3AP",
        "outputId": "49a7d5d5-682c-46e4-9f4e-b8309f2c4b64"
      },
      "execution_count": 37,
      "outputs": [
        {
          "output_type": "stream",
          "name": "stdout",
          "text": [
            "1. Hello while loop\n",
            "2. Hello while loop\n",
            "3. Hello while loop\n",
            "4. Hello while loop\n",
            "5. Hello while loop\n",
            "6. Hello while loop\n",
            "7. Hello while loop\n",
            "8. Hello while loop\n",
            "9. Hello while loop\n",
            "10. Hello while loop\n"
          ]
        }
      ]
    },
    {
      "cell_type": "code",
      "source": [
        "cats = ['Tigger', 'Smokey', 'Sassy', 'Patch', 'Sammy']\n",
        "#List is assigned\n",
        "i = 0\n",
        "while i < len(cats):#while i is less than the length of the list\n",
        "    print(f\"Hello {cats[i]}\")#print the message with each element\n",
        "    i += 1#go to the next index\n"
      ],
      "metadata": {
        "colab": {
          "base_uri": "https://localhost:8080/"
        },
        "id": "2LQApbWab3Io",
        "outputId": "ecfefac7-5bbc-4a71-dfea-b4e7d4fbf0f1"
      },
      "execution_count": 36,
      "outputs": [
        {
          "output_type": "stream",
          "name": "stdout",
          "text": [
            "Hello Tigger\n",
            "Hello Smokey\n",
            "Hello Sassy\n",
            "Hello Patch\n",
            "Hello Sammy\n"
          ]
        }
      ]
    },
    {
      "cell_type": "code",
      "source": [
        "number = int(input(\"Please enter a number:\\n\"))\n",
        "#Take input\n",
        "factorial = 1\n",
        "i = 1\n",
        "while i <= number:#Till i is less than the number\n",
        "    factorial *= i\n",
        "    i += 1\n",
        "print(f\"{number}! = {factorial}\")"
      ],
      "metadata": {
        "colab": {
          "base_uri": "https://localhost:8080/"
        },
        "id": "npwCMaaLbzLt",
        "outputId": "cd8f57ab-2722-460c-d1c5-22f52b2ce47f"
      },
      "execution_count": 35,
      "outputs": [
        {
          "output_type": "stream",
          "name": "stdout",
          "text": [
            "Please enter a number:\n",
            "4\n",
            "4! = 24\n"
          ]
        }
      ]
    },
    {
      "cell_type": "code",
      "source": [
        "i = 0\n",
        "#i is assigned 0\n",
        "while True:\n",
        "    print(i)#print the value of i\n",
        "    i += 1#increase 1 to i\n",
        "    if i >= 10:#if i is greater than 10 then break\n",
        "        break"
      ],
      "metadata": {
        "colab": {
          "base_uri": "https://localhost:8080/"
        },
        "id": "AMiBXLGFP7tP",
        "outputId": "4f72e0c7-9acc-4c50-d387-c4a89f822ba4"
      },
      "execution_count": 33,
      "outputs": [
        {
          "output_type": "stream",
          "name": "stdout",
          "text": [
            "0\n",
            "1\n",
            "2\n",
            "3\n",
            "4\n",
            "5\n",
            "6\n",
            "7\n",
            "8\n",
            "9\n"
          ]
        }
      ]
    }
  ]
}