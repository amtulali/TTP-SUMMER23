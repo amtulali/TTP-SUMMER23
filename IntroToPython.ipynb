{
  "nbformat": 4,
  "nbformat_minor": 0,
  "metadata": {
    "colab": {
      "provenance": [],
      "authorship_tag": "ABX9TyMBf8P51vJbmcrLglcj9w5w",
      "include_colab_link": true
    },
    "kernelspec": {
      "name": "python3",
      "display_name": "Python 3"
    },
    "language_info": {
      "name": "python"
    }
  },
  "cells": [
    {
      "cell_type": "markdown",
      "metadata": {
        "id": "view-in-github",
        "colab_type": "text"
      },
      "source": [
        "<a href=\"https://colab.research.google.com/github/amtulali/TTP-SUMMER23/blob/main/IntroToPython.ipynb\" target=\"_parent\"><img src=\"https://colab.research.google.com/assets/colab-badge.svg\" alt=\"Open In Colab\"/></a>"
      ]
    },
    {
      "cell_type": "code",
      "execution_count": 1,
      "metadata": {
        "colab": {
          "base_uri": "https://localhost:8080/"
        },
        "id": "s29T0EpWe3xn",
        "outputId": "7b9fa0e4-dfb5-4496-8ec4-3659cc72b91c"
      },
      "outputs": [
        {
          "output_type": "stream",
          "name": "stdout",
          "text": [
            "hi there\n"
          ]
        }
      ],
      "source": [
        "print(\"Hi there\")\n",
        "#in this line I am using print() method to print 'Hi There'."
      ]
    },
    {
      "cell_type": "code",
      "source": [
        "print(\"there are two types of slashes: \\\\ and /\")\n",
        "#in this line, print function ignores the slash written twice."
      ],
      "metadata": {
        "colab": {
          "base_uri": "https://localhost:8080/"
        },
        "id": "byG2_vg8fExc",
        "outputId": "c60e8f93-86ac-43a6-bfe2-495746b4246c"
      },
      "execution_count": 2,
      "outputs": [
        {
          "output_type": "stream",
          "name": "stdout",
          "text": [
            "there are two types of slashes: \\ and /\n"
          ]
        }
      ]
    },
    {
      "cell_type": "code",
      "source": [
        "print(\"\"\" This is a tabbed line\n",
        "This is a regular line\n",
        "\"\"\")\n",
        "#in this line we have a tabbed line and a regular line without tab. "
      ],
      "metadata": {
        "colab": {
          "base_uri": "https://localhost:8080/"
        },
        "id": "7HwGX2A4f51n",
        "outputId": "5c7b7405-e68e-413d-d5ab-896d5ec49f77"
      },
      "execution_count": 4,
      "outputs": [
        {
          "output_type": "stream",
          "name": "stdout",
          "text": [
            " This is a tabbed line\n",
            "this is a regular line\n",
            "\n"
          ]
        }
      ]
    },
    {
      "cell_type": "code",
      "source": [
        "print(\"\\n\\tThis is a tabbed line\\nThis is a regular line\")\n",
        "#In this line \\n is used for new line and \\t is used for tab."
      ],
      "metadata": {
        "colab": {
          "base_uri": "https://localhost:8080/"
        },
        "id": "rfCnFz12hNDO",
        "outputId": "c95b9e54-844f-4c00-f4f5-9080e738927f"
      },
      "execution_count": 6,
      "outputs": [
        {
          "output_type": "stream",
          "name": "stdout",
          "text": [
            "\n",
            "\tThis is a tabbed line\n",
            "This is a regular line\n"
          ]
        }
      ]
    },
    {
      "cell_type": "markdown",
      "source": [
        "**Variables**"
      ],
      "metadata": {
        "id": "LvJsb5vlh0dZ"
      }
    },
    {
      "cell_type": "code",
      "source": [
        "dogs = 3\n",
        "cats = \"Fluffy Fur\"\n",
        "#in this code, dogs is assigned the value 3, wheras cats is assigned string 'Fluffy Fur'."
      ],
      "metadata": {
        "id": "ZXdS1QtZhNL-"
      },
      "execution_count": 8,
      "outputs": []
    },
    {
      "cell_type": "code",
      "source": [
        "dogs\n",
        "#writing dogs returns the value 3"
      ],
      "metadata": {
        "colab": {
          "base_uri": "https://localhost:8080/"
        },
        "id": "1KMc9EC-iMwe",
        "outputId": "d2bff192-42d9-4b5c-c38f-777f68466467"
      },
      "execution_count": 9,
      "outputs": [
        {
          "output_type": "execute_result",
          "data": {
            "text/plain": [
              "3"
            ]
          },
          "metadata": {},
          "execution_count": 9
        }
      ]
    },
    {
      "cell_type": "code",
      "source": [
        "cats\n",
        "#writing cats returns the string 'Fluffy Fur'"
      ],
      "metadata": {
        "colab": {
          "base_uri": "https://localhost:8080/",
          "height": 36
        },
        "id": "i_xLrZWXiOZE",
        "outputId": "af9c4d2d-2755-4a80-b277-9bc6add414d1"
      },
      "execution_count": 10,
      "outputs": [
        {
          "output_type": "execute_result",
          "data": {
            "text/plain": [
              "'Fluffy Fur'"
            ],
            "application/vnd.google.colaboratory.intrinsic+json": {
              "type": "string"
            }
          },
          "metadata": {},
          "execution_count": 10
        }
      ]
    },
    {
      "cell_type": "code",
      "source": [
        "type(dogs)\n",
        "#type(dogs) should give the type of the variable assigned to dogs which is an int. "
      ],
      "metadata": {
        "colab": {
          "base_uri": "https://localhost:8080/"
        },
        "id": "z2V4agT4iSWw",
        "outputId": "21e0c237-3d34-4e7b-bbe7-90d980e8cabd"
      },
      "execution_count": 11,
      "outputs": [
        {
          "output_type": "execute_result",
          "data": {
            "text/plain": [
              "int"
            ]
          },
          "metadata": {},
          "execution_count": 11
        }
      ]
    },
    {
      "cell_type": "code",
      "source": [
        "type(cats)\n",
        "#type(cats) should give the type of the variable assigned to cats which is a string. "
      ],
      "metadata": {
        "colab": {
          "base_uri": "https://localhost:8080/"
        },
        "id": "ZqBjVMvviVEP",
        "outputId": "a37c8333-7f57-405d-93e3-045b377cff75"
      },
      "execution_count": 12,
      "outputs": [
        {
          "output_type": "execute_result",
          "data": {
            "text/plain": [
              "str"
            ]
          },
          "metadata": {},
          "execution_count": 12
        }
      ]
    },
    {
      "cell_type": "code",
      "source": [
        "hi=\"hello\"\n",
        "name=\"John\"\n",
        "print(hi + name)\n",
        "# hi is assigned 'hello' wheras name is assigned 'John' and print(hi + name)\n",
        "#returns hello john."
      ],
      "metadata": {
        "colab": {
          "base_uri": "https://localhost:8080/"
        },
        "id": "INkFNMVDibGp",
        "outputId": "4367b162-fff0-4e49-a085-5f43e453b504"
      },
      "execution_count": 13,
      "outputs": [
        {
          "output_type": "stream",
          "name": "stdout",
          "text": [
            "helloJohn\n"
          ]
        }
      ]
    },
    {
      "cell_type": "code",
      "source": [
        "more_dogs=5\n",
        "print(dogs + more_dogs)\n",
        "#dogs was assigned variable 3 and more_dogs is assigned 5 so \n",
        "#print(dogs + more_dogs) returns (5+3) 8"
      ],
      "metadata": {
        "colab": {
          "base_uri": "https://localhost:8080/"
        },
        "id": "sWZGzT2wimpC",
        "outputId": "5960a772-189a-45db-ca35-8f13351ecd11"
      },
      "execution_count": 14,
      "outputs": [
        {
          "output_type": "stream",
          "name": "stdout",
          "text": [
            "8\n"
          ]
        }
      ]
    },
    {
      "cell_type": "code",
      "source": [
        "price = 19.99\n",
        "amount = 3\n",
        "print(price*amount)\n",
        "#price is assigned 19.99, amount is 3. print (price*amount) returns 59.97"
      ],
      "metadata": {
        "colab": {
          "base_uri": "https://localhost:8080/"
        },
        "id": "1z-rvMgfi8fq",
        "outputId": "f00d4128-737a-4419-9426-e13445ecdceb"
      },
      "execution_count": 15,
      "outputs": [
        {
          "output_type": "stream",
          "name": "stdout",
          "text": [
            "59.97\n"
          ]
        }
      ]
    },
    {
      "cell_type": "code",
      "source": [
        "#variable reassignment\n",
        "dogs = \"new value\"\n",
        "print(dogs)\n",
        "#Now dogs is reassigned with string \"new value\"\n",
        "#hence print(dogs) returns new value"
      ],
      "metadata": {
        "colab": {
          "base_uri": "https://localhost:8080/"
        },
        "id": "Z-y44FKfjPWQ",
        "outputId": "020f4740-50ad-4711-a97f-29c3d0679878"
      },
      "execution_count": 16,
      "outputs": [
        {
          "output_type": "stream",
          "name": "stdout",
          "text": [
            "new value\n"
          ]
        }
      ]
    },
    {
      "cell_type": "code",
      "source": [
        "cats, dogs, rabbit = 2, 5, \"cute\"\n",
        "print(dogs)\n",
        "# here cats is assigned 2, dogs is assigned 5 and rabbit is assigned cute\n",
        "#in one single line seperated with commas. print(dogs) returns 5\n"
      ],
      "metadata": {
        "colab": {
          "base_uri": "https://localhost:8080/"
        },
        "id": "XoVfJ5isjooP",
        "outputId": "b169eda2-f0a2-4315-f053-4d829c02929f"
      },
      "execution_count": 17,
      "outputs": [
        {
          "output_type": "stream",
          "name": "stdout",
          "text": [
            "5\n"
          ]
        }
      ]
    },
    {
      "cell_type": "markdown",
      "source": [
        "MORE **STRINGS**"
      ],
      "metadata": {
        "id": "QsULJqAakJuR"
      }
    },
    {
      "cell_type": "markdown",
      "source": [
        "Indexing"
      ],
      "metadata": {
        "id": "CvARxUjLkQbr"
      }
    },
    {
      "cell_type": "code",
      "source": [
        "greetings = \"hello world\"\n",
        "#greeting is assigned string \"hello world\""
      ],
      "metadata": {
        "id": "0T4BIoVikMsA"
      },
      "execution_count": 19,
      "outputs": []
    },
    {
      "cell_type": "code",
      "source": [
        "greetings\n",
        "#writing greeting returns \"hello world\" "
      ],
      "metadata": {
        "colab": {
          "base_uri": "https://localhost:8080/",
          "height": 36
        },
        "id": "1oHOC-FRkr9H",
        "outputId": "3cdb8d5a-6efe-4d69-9e79-bc4af6f03968"
      },
      "execution_count": 20,
      "outputs": [
        {
          "output_type": "execute_result",
          "data": {
            "text/plain": [
              "'hello world'"
            ],
            "application/vnd.google.colaboratory.intrinsic+json": {
              "type": "string"
            }
          },
          "metadata": {},
          "execution_count": 20
        }
      ]
    },
    {
      "cell_type": "code",
      "source": [
        "print(greetings[4])\n",
        "#print(greeting[4]) returns 'o' as it is at index 4 in hello"
      ],
      "metadata": {
        "colab": {
          "base_uri": "https://localhost:8080/"
        },
        "id": "V9gd-b9qkxSh",
        "outputId": "72d4468d-bb91-4251-dcbf-5c1f3a085d9c"
      },
      "execution_count": 21,
      "outputs": [
        {
          "output_type": "stream",
          "name": "stdout",
          "text": [
            "o\n"
          ]
        }
      ]
    },
    {
      "cell_type": "code",
      "source": [
        "testing = \"The 3rd, the 5th, and/or the 19th\"\n",
        "print(testing[10])\n",
        "#Testing is assigned a string. print(testing[10]) returns h as it is at index 10."
      ],
      "metadata": {
        "colab": {
          "base_uri": "https://localhost:8080/"
        },
        "id": "YYq0dW2nk3e0",
        "outputId": "2ae5abbe-8cf9-4fb1-ce96-4fe0e43d91a3"
      },
      "execution_count": 2,
      "outputs": [
        {
          "output_type": "stream",
          "name": "stdout",
          "text": [
            "h\n"
          ]
        }
      ]
    },
    {
      "cell_type": "code",
      "source": [
        "print(testing[3])\n",
        "#print(testing[3]) does not return anything as there is blank space at the index."
      ],
      "metadata": {
        "colab": {
          "base_uri": "https://localhost:8080/"
        },
        "id": "jja9fBXpoFcs",
        "outputId": "3e2ddbab-6037-4262-a64b-d115be48dae5"
      },
      "execution_count": 3,
      "outputs": [
        {
          "output_type": "stream",
          "name": "stdout",
          "text": [
            " \n"
          ]
        }
      ]
    },
    {
      "cell_type": "code",
      "source": [
        "print(testing[5])\n",
        "#print(testing[5]) returns 'r' as it is at index 5"
      ],
      "metadata": {
        "colab": {
          "base_uri": "https://localhost:8080/"
        },
        "id": "Xks2PKdgoJO0",
        "outputId": "7f7a7945-08c6-4180-f9be-f3a8df8c6419"
      },
      "execution_count": 25,
      "outputs": [
        {
          "output_type": "stream",
          "name": "stdout",
          "text": [
            "r\n"
          ]
        }
      ]
    },
    {
      "cell_type": "code",
      "source": [
        "len(greetings)\n",
        "#in this line I am using len function to give length of string assigned to greetings"
      ],
      "metadata": {
        "colab": {
          "base_uri": "https://localhost:8080/"
        },
        "id": "4qlX2sPNoSbe",
        "outputId": "51a0d1fc-9779-4f82-a1d0-e6496baedd12"
      },
      "execution_count": 27,
      "outputs": [
        {
          "output_type": "execute_result",
          "data": {
            "text/plain": [
              "11"
            ]
          },
          "metadata": {},
          "execution_count": 27
        }
      ]
    },
    {
      "cell_type": "code",
      "source": [
        "greetings[-1]\n",
        "#greetings[-1] returns the last letter of the string assigned to greetings."
      ],
      "metadata": {
        "colab": {
          "base_uri": "https://localhost:8080/",
          "height": 36
        },
        "id": "WFcmLwccoklw",
        "outputId": "ed19547d-7b80-45e9-bc23-7ffac90c16b7"
      },
      "execution_count": 28,
      "outputs": [
        {
          "output_type": "execute_result",
          "data": {
            "text/plain": [
              "'d'"
            ],
            "application/vnd.google.colaboratory.intrinsic+json": {
              "type": "string"
            }
          },
          "metadata": {},
          "execution_count": 28
        }
      ]
    },
    {
      "cell_type": "markdown",
      "source": [
        "**String Formatting**"
      ],
      "metadata": {
        "id": "pR3T7qZhoo-R"
      }
    },
    {
      "cell_type": "code",
      "source": [
        "price = 59.99\n",
        "#price is assigned 59.99"
      ],
      "metadata": {
        "id": "Eszd0jdCqY3h"
      },
      "execution_count": 39,
      "outputs": []
    },
    {
      "cell_type": "code",
      "source": [
        "message = \"the products cost {} dollar\".format(price)\n",
        "#.format(price) replaces {} with variable assigned to price."
      ],
      "metadata": {
        "id": "ALbuxhUqqfJ2"
      },
      "execution_count": 40,
      "outputs": []
    },
    {
      "cell_type": "code",
      "source": [
        "message"
      ],
      "metadata": {
        "colab": {
          "base_uri": "https://localhost:8080/",
          "height": 36
        },
        "id": "WnuCcsX_q7Dg",
        "outputId": "9b1d730e-f7c1-4eac-b4ec-0a4710672b25"
      },
      "execution_count": 41,
      "outputs": [
        {
          "output_type": "execute_result",
          "data": {
            "text/plain": [
              "'the products cost 59.99 dollar'"
            ],
            "application/vnd.google.colaboratory.intrinsic+json": {
              "type": "string"
            }
          },
          "metadata": {},
          "execution_count": 41
        }
      ]
    },
    {
      "cell_type": "code",
      "source": [
        "amount=3\n",
        "total = amount * price\n",
        "#amount is assigned variable 3 and total will return amount * price"
      ],
      "metadata": {
        "id": "6CaYThQZrD1X"
      },
      "execution_count": 42,
      "outputs": []
    },
    {
      "cell_type": "code",
      "source": [
        "message2 = \"for {} products at the price of {}, the total will be: {}\"\n",
        "#{} are used to fill up the values accordingly."
      ],
      "metadata": {
        "id": "QgNjMTNHsJfZ"
      },
      "execution_count": 43,
      "outputs": []
    },
    {
      "cell_type": "code",
      "source": [
        "print(message2.format(price, total, amount))\n",
        "#this will format message 2 by replacing first {}with price, second{}with total\n",
        "#and third {} with amount."
      ],
      "metadata": {
        "colab": {
          "base_uri": "https://localhost:8080/"
        },
        "id": "WIYg1kzSsO8E",
        "outputId": "d53a5835-77d9-4e2b-d53e-ec1febbea084"
      },
      "execution_count": 44,
      "outputs": [
        {
          "output_type": "stream",
          "name": "stdout",
          "text": [
            "for 59.99 products at the price of 179.97, the total will be: 3\n"
          ]
        }
      ]
    },
    {
      "cell_type": "code",
      "source": [
        "message3 = \"for {2} products at the price of {0}, the total will be: {1}\"\n",
        "#{2} points to the third element seperated by comma in function format.\n",
        "#{0} points to the first element seperated by comma in function format.\n",
        "#{1} points to the second element seperated by comma in function format."
      ],
      "metadata": {
        "id": "Ght7twyJrQd_"
      },
      "execution_count": 45,
      "outputs": []
    },
    {
      "cell_type": "code",
      "source": [
        "print(message3.format(price, total, amount))\n",
        "#this would print amount in place of {2}, price in place of {0}, total in place of {1}"
      ],
      "metadata": {
        "colab": {
          "base_uri": "https://localhost:8080/"
        },
        "id": "xBz4SKJLr4HO",
        "outputId": "61c6f10e-3b80-44a1-a349-ff9e14093527"
      },
      "execution_count": 46,
      "outputs": [
        {
          "output_type": "stream",
          "name": "stdout",
          "text": [
            "for 3 products at the price of 59.99, the total will be: 179.97\n"
          ]
        }
      ]
    },
    {
      "cell_type": "markdown",
      "source": [
        "**The f-string Method**"
      ],
      "metadata": {
        "id": "5LU3mW18u60Y"
      }
    },
    {
      "cell_type": "code",
      "source": [
        "price = 19.99\n",
        "items = 3\n",
        "#assigning 19.99 to price and 3 to items"
      ],
      "metadata": {
        "id": "FNt_SJWIu_H7"
      },
      "execution_count": 47,
      "outputs": []
    },
    {
      "cell_type": "code",
      "source": [
        "msg = f'this individual product is {price}'\n",
        "#using f function to format, returning 19.99 in place of {price}"
      ],
      "metadata": {
        "id": "y4qqoItzvJsb"
      },
      "execution_count": 48,
      "outputs": []
    },
    {
      "cell_type": "code",
      "source": [
        "msg"
      ],
      "metadata": {
        "colab": {
          "base_uri": "https://localhost:8080/",
          "height": 36
        },
        "id": "b_wD1suvvaRG",
        "outputId": "62959f06-05c9-4201-da4c-e6ef971f86f5"
      },
      "execution_count": 49,
      "outputs": [
        {
          "output_type": "execute_result",
          "data": {
            "text/plain": [
              "'this individual product is 19.99'"
            ],
            "application/vnd.google.colaboratory.intrinsic+json": {
              "type": "string"
            }
          },
          "metadata": {},
          "execution_count": 49
        }
      ]
    },
    {
      "cell_type": "code",
      "source": [
        "msg2 = f'The total for your purchase is {price * items}'\n",
        "#using f function to format, and return {price(19.99)*items(3) which would be 59.97}"
      ],
      "metadata": {
        "id": "YXoxsOtDyzDJ"
      },
      "execution_count": 50,
      "outputs": []
    },
    {
      "cell_type": "code",
      "source": [
        "msg2"
      ],
      "metadata": {
        "colab": {
          "base_uri": "https://localhost:8080/",
          "height": 36
        },
        "id": "sN3yrdn0zIlD",
        "outputId": "d0aa4010-c09e-4ca1-8b3f-974884e71fb4"
      },
      "execution_count": 51,
      "outputs": [
        {
          "output_type": "execute_result",
          "data": {
            "text/plain": [
              "'The total for your purchase is 59.97'"
            ],
            "application/vnd.google.colaboratory.intrinsic+json": {
              "type": "string"
            }
          },
          "metadata": {},
          "execution_count": 51
        }
      ]
    }
  ]
}